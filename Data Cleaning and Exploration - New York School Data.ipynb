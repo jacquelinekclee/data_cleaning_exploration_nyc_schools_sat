{
 "cells": [
  {
   "cell_type": "markdown",
   "metadata": {},
   "source": [
    "# Data Cleaning and Exploration - New York School Data\n"
   ]
  },
  {
   "cell_type": "markdown",
   "metadata": {},
   "source": [
    "In this project, I will be looking at public datasets that detail SAT scores and demographics for New York City schools. The goals of this project will be to:\n",
    "- Clean the data by identifying and dealing with missing, irregular, unnecessary, and/or inconsistent data.\n",
    "- Explore the data.\n",
    "- Perform some basic analysis on the data to see how SAT scores relate to student demographics."
   ]
  },
  {
   "cell_type": "markdown",
   "metadata": {},
   "source": [
    "#### Imports "
   ]
  },
  {
   "cell_type": "code",
   "execution_count": 1,
   "metadata": {},
   "outputs": [],
   "source": [
    "import pandas as pd\n",
    "import numpy as np\n",
    "import seaborn as sns\n",
    "\n",
    "import matplotlib.pyplot as plt\n",
    "import matplotlib.mlab as mlab\n",
    "import matplotlib\n",
    "plt.style.use('ggplot')\n",
    "from matplotlib.pyplot import figure\n",
    "\n",
    "%matplotlib inline\n",
    "matplotlib.rcParams['figure.figsize'] = (12,8)\n",
    "\n",
    "pd.options.mode.chained_assignment = None"
   ]
  },
  {
   "cell_type": "markdown",
   "metadata": {},
   "source": [
    "## Clean the Data "
   ]
  },
  {
   "cell_type": "markdown",
   "metadata": {},
   "source": [
    "### SAT Data "
   ]
  },
  {
   "cell_type": "code",
   "execution_count": 666,
   "metadata": {},
   "outputs": [
    {
     "data": {
      "text/html": [
       "<div>\n",
       "<style scoped>\n",
       "    .dataframe tbody tr th:only-of-type {\n",
       "        vertical-align: middle;\n",
       "    }\n",
       "\n",
       "    .dataframe tbody tr th {\n",
       "        vertical-align: top;\n",
       "    }\n",
       "\n",
       "    .dataframe thead th {\n",
       "        text-align: right;\n",
       "    }\n",
       "</style>\n",
       "<table border=\"1\" class=\"dataframe\">\n",
       "  <thead>\n",
       "    <tr style=\"text-align: right;\">\n",
       "      <th></th>\n",
       "      <th>DBN</th>\n",
       "      <th>SCHOOL NAME</th>\n",
       "      <th>Num of SAT Test Takers</th>\n",
       "      <th>SAT Critical Reading Avg. Score</th>\n",
       "      <th>SAT Math Avg. Score</th>\n",
       "      <th>SAT Writing Avg. Score</th>\n",
       "    </tr>\n",
       "  </thead>\n",
       "  <tbody>\n",
       "    <tr>\n",
       "      <td>0</td>\n",
       "      <td>01M292</td>\n",
       "      <td>HENRY STREET SCHOOL FOR INTERNATIONAL STUDIES</td>\n",
       "      <td>29</td>\n",
       "      <td>355</td>\n",
       "      <td>404</td>\n",
       "      <td>363</td>\n",
       "    </tr>\n",
       "    <tr>\n",
       "      <td>1</td>\n",
       "      <td>01M448</td>\n",
       "      <td>UNIVERSITY NEIGHBORHOOD HIGH SCHOOL</td>\n",
       "      <td>91</td>\n",
       "      <td>383</td>\n",
       "      <td>423</td>\n",
       "      <td>366</td>\n",
       "    </tr>\n",
       "    <tr>\n",
       "      <td>2</td>\n",
       "      <td>01M450</td>\n",
       "      <td>EAST SIDE COMMUNITY SCHOOL</td>\n",
       "      <td>70</td>\n",
       "      <td>377</td>\n",
       "      <td>402</td>\n",
       "      <td>370</td>\n",
       "    </tr>\n",
       "    <tr>\n",
       "      <td>3</td>\n",
       "      <td>01M458</td>\n",
       "      <td>FORSYTH SATELLITE ACADEMY</td>\n",
       "      <td>7</td>\n",
       "      <td>414</td>\n",
       "      <td>401</td>\n",
       "      <td>359</td>\n",
       "    </tr>\n",
       "    <tr>\n",
       "      <td>4</td>\n",
       "      <td>01M509</td>\n",
       "      <td>MARTA VALLE HIGH SCHOOL</td>\n",
       "      <td>44</td>\n",
       "      <td>390</td>\n",
       "      <td>433</td>\n",
       "      <td>384</td>\n",
       "    </tr>\n",
       "  </tbody>\n",
       "</table>\n",
       "</div>"
      ],
      "text/plain": [
       "      DBN                                    SCHOOL NAME  \\\n",
       "0  01M292  HENRY STREET SCHOOL FOR INTERNATIONAL STUDIES   \n",
       "1  01M448            UNIVERSITY NEIGHBORHOOD HIGH SCHOOL   \n",
       "2  01M450                     EAST SIDE COMMUNITY SCHOOL   \n",
       "3  01M458                      FORSYTH SATELLITE ACADEMY   \n",
       "4  01M509                        MARTA VALLE HIGH SCHOOL   \n",
       "\n",
       "  Num of SAT Test Takers SAT Critical Reading Avg. Score SAT Math Avg. Score  \\\n",
       "0                     29                             355                 404   \n",
       "1                     91                             383                 423   \n",
       "2                     70                             377                 402   \n",
       "3                      7                             414                 401   \n",
       "4                     44                             390                 433   \n",
       "\n",
       "  SAT Writing Avg. Score  \n",
       "0                    363  \n",
       "1                    366  \n",
       "2                    370  \n",
       "3                    359  \n",
       "4                    384  "
      ]
     },
     "execution_count": 666,
     "metadata": {},
     "output_type": "execute_result"
    }
   ],
   "source": [
    "# read the data\n",
    "sat = pd.read_csv('sat_ny.csv')\n",
    "sat.head()"
   ]
  },
  {
   "cell_type": "code",
   "execution_count": 667,
   "metadata": {},
   "outputs": [
    {
     "data": {
      "text/plain": [
       "478"
      ]
     },
     "execution_count": 667,
     "metadata": {},
     "output_type": "execute_result"
    }
   ],
   "source": [
    "#get number of rows\n",
    "sat_rows = sat.shape[0]\n",
    "sat_rows"
   ]
  },
  {
   "cell_type": "code",
   "execution_count": 668,
   "metadata": {},
   "outputs": [
    {
     "data": {
      "text/plain": [
       "DBN                                object\n",
       "SCHOOL NAME                        object\n",
       "Num of SAT Test Takers             object\n",
       "SAT Critical Reading Avg. Score    object\n",
       "SAT Math Avg. Score                object\n",
       "SAT Writing Avg. Score             object\n",
       "dtype: object"
      ]
     },
     "execution_count": 668,
     "metadata": {},
     "output_type": "execute_result"
    }
   ],
   "source": [
    "#get data types/column names\n",
    "sat_types = sat.dtypes\n",
    "sat_types"
   ]
  },
  {
   "cell_type": "markdown",
   "metadata": {},
   "source": [
    "### Detect whether or not dataset has any missing values"
   ]
  },
  {
   "cell_type": "code",
   "execution_count": 669,
   "metadata": {},
   "outputs": [
    {
     "name": "stdout",
     "output_type": "stream",
     "text": [
      "DBN: False\n",
      "SCHOOL NAME: False\n",
      "Num of SAT Test Takers: False\n",
      "SAT Critical Reading Avg. Score: False\n",
      "SAT Math Avg. Score: False\n",
      "SAT Writing Avg. Score: False\n"
     ]
    }
   ],
   "source": [
    "#there are no missing values\n",
    "sat_cols = list(sat.columns)\n",
    "for c in sat_cols:\n",
    "    print(c + ': ' + str(sat[c].isnull().values.any()))"
   ]
  },
  {
   "cell_type": "code",
   "execution_count": 1117,
   "metadata": {},
   "outputs": [],
   "source": [
    "# get all the school DBNs (unique identifiers) for the schools in the SAT data\n",
    "sat_dbns = list(sat['DBN'])\n",
    "sat_codes = []\n",
    "for dbn in sat_dbns:\n",
    "    code = dbn[2:]\n",
    "    sat_codes.append(code)"
   ]
  },
  {
   "cell_type": "markdown",
   "metadata": {},
   "source": [
    "Instead of being listed as null, suppressed data points are marked by 's.' These rows will be left in for now.\n",
    "\n",
    "SAT Scores are also most commonly expressed as a composite score. I will thus create a new column that adds up the scores from each column. Additionally, I will edit the subject scores to be expressed in ranges that correspond with the percentiles from 2012 as seen below:\n",
    "\n",
    "Reading\n",
    "* 90-99th percentile: [650, 800]\n",
    "* 71st-88th percentile: [560, 640]\n",
    "* 51st-67th percentile: [500, 550]\n",
    "* 21st-48th percentile: [410, 490]\n",
    "* below 20th percentile: [200, 400]\n",
    "\n",
    "Math\n",
    "* 90-99th percentile: [680, 800]\n",
    "* 70-89th percentile: [580, 670]\n",
    "* 52nd-67th percentile: [520, 570]\n",
    "* 21st-49th percentile: [420, 510]\n",
    "* below 20th percentile: [200, 410]\n",
    "\n",
    "Writing\n",
    "* 90-99th percentile: [650, 800]\n",
    "* 70-89th percentile: [550, 640]\n",
    "* 52nd-67th percentile: [490, 540]\n",
    "* 21st-48th percentile: [400, 480]\n",
    "* below 20th percentile: [200, 390]\n",
    "\n",
    "Composite\n",
    "* 90-99th percentile: [1930, 2400]\n",
    "* 70-89th percentile: [1670, 1920]\n",
    "* 50-69th percentile: [1490, 1660]\n",
    "* 20-49th percentile: [1230, 1480]\n",
    "* below 20th percentile: [600, 1220]"
   ]
  },
  {
   "cell_type": "code",
   "execution_count": 673,
   "metadata": {},
   "outputs": [],
   "source": [
    "def r_range(r):\n",
    "    if 650 <= r <= 800:\n",
    "        return '650-800'\n",
    "    elif 560 <= r <= 649:\n",
    "        return '560-640'\n",
    "    elif 500 <= r <= 559:\n",
    "        return '500-550'\n",
    "    elif 410 <= r <= 499:\n",
    "        return '410-490'\n",
    "    else:\n",
    "        return '200-400'\n",
    "def m_range(m):\n",
    "    if 680 <= m <= 800:\n",
    "        return '680-800'\n",
    "    elif 580 <= m <= 679:\n",
    "        return '580-670'\n",
    "    elif 520 <= m <= 579:\n",
    "        return '520-570'\n",
    "    elif 420 <= m <= 519:\n",
    "        return '420-510'\n",
    "    else:\n",
    "        return '200-410'\n",
    "def w_range(w):\n",
    "    if 650 <= w <= 800:\n",
    "        return '650-800'\n",
    "    elif 550 <= w <= 649:\n",
    "        return '550-640'\n",
    "    elif 490 <= w <= 549:\n",
    "        return '490-550'\n",
    "    elif 400 <= w <= 489:\n",
    "        return '400-480'\n",
    "    else:\n",
    "        return '200-390'\n",
    "def c_range(c):\n",
    "    if 1930 <= c <= 2400:\n",
    "        return '1930-2400'\n",
    "    elif 1670 <= c <= 1929:\n",
    "        return '1670-1920'\n",
    "    elif 1490 <= c <= 1669:\n",
    "        return '1490-1660'\n",
    "    elif 1230 <= c <= 1489:\n",
    "        return '1230-1480'\n",
    "    else:\n",
    "        return '600-1220'"
   ]
  },
  {
   "cell_type": "code",
   "execution_count": 674,
   "metadata": {},
   "outputs": [],
   "source": [
    "composites = []\n",
    "composites_raw = []\n",
    "r_ranges = []\n",
    "m_ranges = []\n",
    "w_ranges = []\n",
    "for i, row in sat.iterrows():\n",
    "    n = row['Num of SAT Test Takers']\n",
    "    if n == 's':\n",
    "        composites.append('s')\n",
    "        r_ranges.append('s')\n",
    "        m_ranges.append('s')\n",
    "        w_ranges.append('s')\n",
    "        composites_raw.append('s')\n",
    "        continue\n",
    "    r = int(row['SAT Critical Reading Avg. Score'])\n",
    "    m = int(row['SAT Math Avg. Score'])\n",
    "    w = int(row['SAT Writing Avg. Score'])\n",
    "    c = r+m+w\n",
    "    composites_raw.append(c)\n",
    "    composites.append(c_range(c))\n",
    "    r_ranges.append(r_range(r))\n",
    "    m_ranges.append(m_range(m))\n",
    "    w_ranges.append(w_range(w))"
   ]
  },
  {
   "cell_type": "code",
   "execution_count": 676,
   "metadata": {},
   "outputs": [],
   "source": [
    "sat = sat.drop(columns=['SAT Critical Reading Avg. Score', 'SAT Math Avg. Score', 'SAT Writing Avg. Score'])"
   ]
  },
  {
   "cell_type": "code",
   "execution_count": 677,
   "metadata": {},
   "outputs": [
    {
     "data": {
      "text/html": [
       "<div>\n",
       "<style scoped>\n",
       "    .dataframe tbody tr th:only-of-type {\n",
       "        vertical-align: middle;\n",
       "    }\n",
       "\n",
       "    .dataframe tbody tr th {\n",
       "        vertical-align: top;\n",
       "    }\n",
       "\n",
       "    .dataframe thead th {\n",
       "        text-align: right;\n",
       "    }\n",
       "</style>\n",
       "<table border=\"1\" class=\"dataframe\">\n",
       "  <thead>\n",
       "    <tr style=\"text-align: right;\">\n",
       "      <th></th>\n",
       "      <th>DBN</th>\n",
       "      <th>SCHOOL NAME</th>\n",
       "      <th>Num of SAT Test Takers</th>\n",
       "      <th>SAT Composite Avg. Score</th>\n",
       "      <th>SAT Critical Reading Avg. Score</th>\n",
       "      <th>SAT Math Avg. Score</th>\n",
       "      <th>SAT Writing Avg. Score</th>\n",
       "    </tr>\n",
       "  </thead>\n",
       "  <tbody>\n",
       "    <tr>\n",
       "      <td>0</td>\n",
       "      <td>01M292</td>\n",
       "      <td>HENRY STREET SCHOOL FOR INTERNATIONAL STUDIES</td>\n",
       "      <td>29</td>\n",
       "      <td>600-1220</td>\n",
       "      <td>200-400</td>\n",
       "      <td>200-410</td>\n",
       "      <td>200-390</td>\n",
       "    </tr>\n",
       "    <tr>\n",
       "      <td>1</td>\n",
       "      <td>01M448</td>\n",
       "      <td>UNIVERSITY NEIGHBORHOOD HIGH SCHOOL</td>\n",
       "      <td>91</td>\n",
       "      <td>600-1220</td>\n",
       "      <td>200-400</td>\n",
       "      <td>420-510</td>\n",
       "      <td>200-390</td>\n",
       "    </tr>\n",
       "    <tr>\n",
       "      <td>2</td>\n",
       "      <td>01M450</td>\n",
       "      <td>EAST SIDE COMMUNITY SCHOOL</td>\n",
       "      <td>70</td>\n",
       "      <td>600-1220</td>\n",
       "      <td>200-400</td>\n",
       "      <td>200-410</td>\n",
       "      <td>200-390</td>\n",
       "    </tr>\n",
       "    <tr>\n",
       "      <td>3</td>\n",
       "      <td>01M458</td>\n",
       "      <td>FORSYTH SATELLITE ACADEMY</td>\n",
       "      <td>7</td>\n",
       "      <td>600-1220</td>\n",
       "      <td>410-490</td>\n",
       "      <td>200-410</td>\n",
       "      <td>200-390</td>\n",
       "    </tr>\n",
       "    <tr>\n",
       "      <td>4</td>\n",
       "      <td>01M509</td>\n",
       "      <td>MARTA VALLE HIGH SCHOOL</td>\n",
       "      <td>44</td>\n",
       "      <td>600-1220</td>\n",
       "      <td>200-400</td>\n",
       "      <td>420-510</td>\n",
       "      <td>200-390</td>\n",
       "    </tr>\n",
       "  </tbody>\n",
       "</table>\n",
       "</div>"
      ],
      "text/plain": [
       "      DBN                                    SCHOOL NAME  \\\n",
       "0  01M292  HENRY STREET SCHOOL FOR INTERNATIONAL STUDIES   \n",
       "1  01M448            UNIVERSITY NEIGHBORHOOD HIGH SCHOOL   \n",
       "2  01M450                     EAST SIDE COMMUNITY SCHOOL   \n",
       "3  01M458                      FORSYTH SATELLITE ACADEMY   \n",
       "4  01M509                        MARTA VALLE HIGH SCHOOL   \n",
       "\n",
       "  Num of SAT Test Takers SAT Composite Avg. Score  \\\n",
       "0                     29                 600-1220   \n",
       "1                     91                 600-1220   \n",
       "2                     70                 600-1220   \n",
       "3                      7                 600-1220   \n",
       "4                     44                 600-1220   \n",
       "\n",
       "  SAT Critical Reading Avg. Score SAT Math Avg. Score SAT Writing Avg. Score  \n",
       "0                         200-400             200-410                200-390  \n",
       "1                         200-400             420-510                200-390  \n",
       "2                         200-400             200-410                200-390  \n",
       "3                         410-490             200-410                200-390  \n",
       "4                         200-400             420-510                200-390  "
      ]
     },
     "execution_count": 677,
     "metadata": {},
     "output_type": "execute_result"
    }
   ],
   "source": [
    "sat.insert(3, 'SAT Composite Avg. Score', composites)\n",
    "sat.insert(4, 'SAT Critical Reading Avg. Score', r_ranges)\n",
    "sat.insert(5, 'SAT Math Avg. Score', m_ranges)\n",
    "sat.insert(6, 'SAT Writing Avg. Score', w_ranges)\n",
    "sat.head()"
   ]
  },
  {
   "cell_type": "markdown",
   "metadata": {},
   "source": [
    "### Demographics Data "
   ]
  },
  {
   "cell_type": "code",
   "execution_count": 260,
   "metadata": {
    "scrolled": true
   },
   "outputs": [
    {
     "data": {
      "text/html": [
       "<div>\n",
       "<style scoped>\n",
       "    .dataframe tbody tr th:only-of-type {\n",
       "        vertical-align: middle;\n",
       "    }\n",
       "\n",
       "    .dataframe tbody tr th {\n",
       "        vertical-align: top;\n",
       "    }\n",
       "\n",
       "    .dataframe thead th {\n",
       "        text-align: right;\n",
       "    }\n",
       "</style>\n",
       "<table border=\"1\" class=\"dataframe\">\n",
       "  <thead>\n",
       "    <tr style=\"text-align: right;\">\n",
       "      <th></th>\n",
       "      <th>DBN</th>\n",
       "      <th>Name</th>\n",
       "      <th>schoolyear</th>\n",
       "      <th>fl_percent</th>\n",
       "      <th>frl_percent</th>\n",
       "      <th>total_enrollment</th>\n",
       "      <th>prek</th>\n",
       "      <th>k</th>\n",
       "      <th>grade1</th>\n",
       "      <th>grade2</th>\n",
       "      <th>...</th>\n",
       "      <th>black_num</th>\n",
       "      <th>black_per</th>\n",
       "      <th>hispanic_num</th>\n",
       "      <th>hispanic_per</th>\n",
       "      <th>white_num</th>\n",
       "      <th>white_per</th>\n",
       "      <th>male_num</th>\n",
       "      <th>male_per</th>\n",
       "      <th>female_num</th>\n",
       "      <th>female_per</th>\n",
       "    </tr>\n",
       "  </thead>\n",
       "  <tbody>\n",
       "    <tr>\n",
       "      <td>0</td>\n",
       "      <td>01M015</td>\n",
       "      <td>P.S. 015 ROBERTO CLEMENTE</td>\n",
       "      <td>20052006</td>\n",
       "      <td>89.4</td>\n",
       "      <td>NaN</td>\n",
       "      <td>281</td>\n",
       "      <td>15</td>\n",
       "      <td>36</td>\n",
       "      <td>40</td>\n",
       "      <td>33</td>\n",
       "      <td>...</td>\n",
       "      <td>74</td>\n",
       "      <td>26.3</td>\n",
       "      <td>189</td>\n",
       "      <td>67.3</td>\n",
       "      <td>5</td>\n",
       "      <td>1.8</td>\n",
       "      <td>158.0</td>\n",
       "      <td>56.2</td>\n",
       "      <td>123.0</td>\n",
       "      <td>43.8</td>\n",
       "    </tr>\n",
       "    <tr>\n",
       "      <td>1</td>\n",
       "      <td>01M015</td>\n",
       "      <td>P.S. 015 ROBERTO CLEMENTE</td>\n",
       "      <td>20062007</td>\n",
       "      <td>89.4</td>\n",
       "      <td>NaN</td>\n",
       "      <td>243</td>\n",
       "      <td>15</td>\n",
       "      <td>29</td>\n",
       "      <td>39</td>\n",
       "      <td>38</td>\n",
       "      <td>...</td>\n",
       "      <td>68</td>\n",
       "      <td>28.0</td>\n",
       "      <td>153</td>\n",
       "      <td>63.0</td>\n",
       "      <td>4</td>\n",
       "      <td>1.6</td>\n",
       "      <td>140.0</td>\n",
       "      <td>57.6</td>\n",
       "      <td>103.0</td>\n",
       "      <td>42.4</td>\n",
       "    </tr>\n",
       "    <tr>\n",
       "      <td>2</td>\n",
       "      <td>01M015</td>\n",
       "      <td>P.S. 015 ROBERTO CLEMENTE</td>\n",
       "      <td>20072008</td>\n",
       "      <td>89.4</td>\n",
       "      <td>NaN</td>\n",
       "      <td>261</td>\n",
       "      <td>18</td>\n",
       "      <td>43</td>\n",
       "      <td>39</td>\n",
       "      <td>36</td>\n",
       "      <td>...</td>\n",
       "      <td>77</td>\n",
       "      <td>29.5</td>\n",
       "      <td>157</td>\n",
       "      <td>60.2</td>\n",
       "      <td>7</td>\n",
       "      <td>2.7</td>\n",
       "      <td>143.0</td>\n",
       "      <td>54.8</td>\n",
       "      <td>118.0</td>\n",
       "      <td>45.2</td>\n",
       "    </tr>\n",
       "    <tr>\n",
       "      <td>3</td>\n",
       "      <td>01M015</td>\n",
       "      <td>P.S. 015 ROBERTO CLEMENTE</td>\n",
       "      <td>20082009</td>\n",
       "      <td>89.4</td>\n",
       "      <td>NaN</td>\n",
       "      <td>252</td>\n",
       "      <td>17</td>\n",
       "      <td>37</td>\n",
       "      <td>44</td>\n",
       "      <td>32</td>\n",
       "      <td>...</td>\n",
       "      <td>75</td>\n",
       "      <td>29.8</td>\n",
       "      <td>149</td>\n",
       "      <td>59.1</td>\n",
       "      <td>7</td>\n",
       "      <td>2.8</td>\n",
       "      <td>149.0</td>\n",
       "      <td>59.1</td>\n",
       "      <td>103.0</td>\n",
       "      <td>40.9</td>\n",
       "    </tr>\n",
       "    <tr>\n",
       "      <td>4</td>\n",
       "      <td>01M015</td>\n",
       "      <td>P.S. 015 ROBERTO CLEMENTE</td>\n",
       "      <td>20092010</td>\n",
       "      <td></td>\n",
       "      <td>96.5</td>\n",
       "      <td>208</td>\n",
       "      <td>16</td>\n",
       "      <td>40</td>\n",
       "      <td>28</td>\n",
       "      <td>32</td>\n",
       "      <td>...</td>\n",
       "      <td>67</td>\n",
       "      <td>32.2</td>\n",
       "      <td>118</td>\n",
       "      <td>56.7</td>\n",
       "      <td>6</td>\n",
       "      <td>2.9</td>\n",
       "      <td>124.0</td>\n",
       "      <td>59.6</td>\n",
       "      <td>84.0</td>\n",
       "      <td>40.4</td>\n",
       "    </tr>\n",
       "    <tr>\n",
       "      <td>5</td>\n",
       "      <td>01M015</td>\n",
       "      <td>P.S. 015 ROBERTO CLEMENTE</td>\n",
       "      <td>20102011</td>\n",
       "      <td></td>\n",
       "      <td>96.5</td>\n",
       "      <td>203</td>\n",
       "      <td>13</td>\n",
       "      <td>37</td>\n",
       "      <td>35</td>\n",
       "      <td>33</td>\n",
       "      <td>...</td>\n",
       "      <td>75</td>\n",
       "      <td>36.9</td>\n",
       "      <td>110</td>\n",
       "      <td>54.2</td>\n",
       "      <td>4</td>\n",
       "      <td>2.0</td>\n",
       "      <td>113.0</td>\n",
       "      <td>55.7</td>\n",
       "      <td>90.0</td>\n",
       "      <td>44.3</td>\n",
       "    </tr>\n",
       "  </tbody>\n",
       "</table>\n",
       "<p>6 rows × 38 columns</p>\n",
       "</div>"
      ],
      "text/plain": [
       "      DBN                       Name  schoolyear fl_percent  frl_percent  \\\n",
       "0  01M015  P.S. 015 ROBERTO CLEMENTE    20052006       89.4          NaN   \n",
       "1  01M015  P.S. 015 ROBERTO CLEMENTE    20062007       89.4          NaN   \n",
       "2  01M015  P.S. 015 ROBERTO CLEMENTE    20072008       89.4          NaN   \n",
       "3  01M015  P.S. 015 ROBERTO CLEMENTE    20082009       89.4          NaN   \n",
       "4  01M015  P.S. 015 ROBERTO CLEMENTE    20092010                    96.5   \n",
       "5  01M015  P.S. 015 ROBERTO CLEMENTE    20102011                    96.5   \n",
       "\n",
       "   total_enrollment prek   k grade1 grade2  ... black_num black_per  \\\n",
       "0               281   15  36     40     33  ...        74      26.3   \n",
       "1               243   15  29     39     38  ...        68      28.0   \n",
       "2               261   18  43     39     36  ...        77      29.5   \n",
       "3               252   17  37     44     32  ...        75      29.8   \n",
       "4               208   16  40     28     32  ...        67      32.2   \n",
       "5               203   13  37     35     33  ...        75      36.9   \n",
       "\n",
       "  hispanic_num hispanic_per white_num white_per male_num male_per female_num  \\\n",
       "0          189         67.3         5       1.8    158.0     56.2      123.0   \n",
       "1          153         63.0         4       1.6    140.0     57.6      103.0   \n",
       "2          157         60.2         7       2.7    143.0     54.8      118.0   \n",
       "3          149         59.1         7       2.8    149.0     59.1      103.0   \n",
       "4          118         56.7         6       2.9    124.0     59.6       84.0   \n",
       "5          110         54.2         4       2.0    113.0     55.7       90.0   \n",
       "\n",
       "  female_per  \n",
       "0       43.8  \n",
       "1       42.4  \n",
       "2       45.2  \n",
       "3       40.9  \n",
       "4       40.4  \n",
       "5       44.3  \n",
       "\n",
       "[6 rows x 38 columns]"
      ]
     },
     "execution_count": 260,
     "metadata": {},
     "output_type": "execute_result"
    }
   ],
   "source": [
    "demos = pd.read_csv('demographics_ny.csv')\n",
    "demos.head(6)"
   ]
  },
  {
   "cell_type": "markdown",
   "metadata": {},
   "source": [
    "Notes on the columns:\n",
    "* fl_percent is percent of students who speak foreign language (presumably percent of students who speak English as a second language)\n",
    "* frl_percent is percent of students under the National School Lunch Program. These students receive free or reduced-price lunches and are from low income households.\n",
    "* sped_num and sped_percent are measures of how many special ed students there are\n",
    "\n",
    "I will focus on columns that reveal information about students' ethnicity, socioeconomic situation, and gender. All other columns will thus be removed. Additionally, I will only focus on the most recent school years (2011-2012)."
   ]
  },
  {
   "cell_type": "code",
   "execution_count": 261,
   "metadata": {},
   "outputs": [],
   "source": [
    "demos_cols_og = list(demos.columns)\n",
    "grades = demos_cols_og[6:20]"
   ]
  },
  {
   "cell_type": "code",
   "execution_count": 262,
   "metadata": {},
   "outputs": [
    {
     "data": {
      "text/html": [
       "<div>\n",
       "<style scoped>\n",
       "    .dataframe tbody tr th:only-of-type {\n",
       "        vertical-align: middle;\n",
       "    }\n",
       "\n",
       "    .dataframe tbody tr th {\n",
       "        vertical-align: top;\n",
       "    }\n",
       "\n",
       "    .dataframe thead th {\n",
       "        text-align: right;\n",
       "    }\n",
       "</style>\n",
       "<table border=\"1\" class=\"dataframe\">\n",
       "  <thead>\n",
       "    <tr style=\"text-align: right;\">\n",
       "      <th></th>\n",
       "      <th>DBN</th>\n",
       "      <th>Name</th>\n",
       "      <th>schoolyear</th>\n",
       "      <th>frl_percent</th>\n",
       "      <th>total_enrollment</th>\n",
       "      <th>ell_num</th>\n",
       "      <th>ell_percent</th>\n",
       "      <th>sped_num</th>\n",
       "      <th>sped_percent</th>\n",
       "      <th>asian_num</th>\n",
       "      <th>...</th>\n",
       "      <th>black_num</th>\n",
       "      <th>black_per</th>\n",
       "      <th>hispanic_num</th>\n",
       "      <th>hispanic_per</th>\n",
       "      <th>white_num</th>\n",
       "      <th>white_per</th>\n",
       "      <th>male_num</th>\n",
       "      <th>male_per</th>\n",
       "      <th>female_num</th>\n",
       "      <th>female_per</th>\n",
       "    </tr>\n",
       "  </thead>\n",
       "  <tbody>\n",
       "    <tr>\n",
       "      <td>0</td>\n",
       "      <td>01M015</td>\n",
       "      <td>P.S. 015 ROBERTO CLEMENTE</td>\n",
       "      <td>20052006</td>\n",
       "      <td>NaN</td>\n",
       "      <td>281</td>\n",
       "      <td>36.0</td>\n",
       "      <td>12.8</td>\n",
       "      <td>57.0</td>\n",
       "      <td>20.3</td>\n",
       "      <td>10</td>\n",
       "      <td>...</td>\n",
       "      <td>74</td>\n",
       "      <td>26.3</td>\n",
       "      <td>189</td>\n",
       "      <td>67.3</td>\n",
       "      <td>5</td>\n",
       "      <td>1.8</td>\n",
       "      <td>158.0</td>\n",
       "      <td>56.2</td>\n",
       "      <td>123.0</td>\n",
       "      <td>43.8</td>\n",
       "    </tr>\n",
       "    <tr>\n",
       "      <td>1</td>\n",
       "      <td>01M015</td>\n",
       "      <td>P.S. 015 ROBERTO CLEMENTE</td>\n",
       "      <td>20062007</td>\n",
       "      <td>NaN</td>\n",
       "      <td>243</td>\n",
       "      <td>38.0</td>\n",
       "      <td>15.6</td>\n",
       "      <td>55.0</td>\n",
       "      <td>22.6</td>\n",
       "      <td>18</td>\n",
       "      <td>...</td>\n",
       "      <td>68</td>\n",
       "      <td>28.0</td>\n",
       "      <td>153</td>\n",
       "      <td>63.0</td>\n",
       "      <td>4</td>\n",
       "      <td>1.6</td>\n",
       "      <td>140.0</td>\n",
       "      <td>57.6</td>\n",
       "      <td>103.0</td>\n",
       "      <td>42.4</td>\n",
       "    </tr>\n",
       "    <tr>\n",
       "      <td>2</td>\n",
       "      <td>01M015</td>\n",
       "      <td>P.S. 015 ROBERTO CLEMENTE</td>\n",
       "      <td>20072008</td>\n",
       "      <td>NaN</td>\n",
       "      <td>261</td>\n",
       "      <td>52.0</td>\n",
       "      <td>19.9</td>\n",
       "      <td>60.0</td>\n",
       "      <td>23.0</td>\n",
       "      <td>16</td>\n",
       "      <td>...</td>\n",
       "      <td>77</td>\n",
       "      <td>29.5</td>\n",
       "      <td>157</td>\n",
       "      <td>60.2</td>\n",
       "      <td>7</td>\n",
       "      <td>2.7</td>\n",
       "      <td>143.0</td>\n",
       "      <td>54.8</td>\n",
       "      <td>118.0</td>\n",
       "      <td>45.2</td>\n",
       "    </tr>\n",
       "    <tr>\n",
       "      <td>3</td>\n",
       "      <td>01M015</td>\n",
       "      <td>P.S. 015 ROBERTO CLEMENTE</td>\n",
       "      <td>20082009</td>\n",
       "      <td>NaN</td>\n",
       "      <td>252</td>\n",
       "      <td>48.0</td>\n",
       "      <td>19.0</td>\n",
       "      <td>62.0</td>\n",
       "      <td>24.6</td>\n",
       "      <td>16</td>\n",
       "      <td>...</td>\n",
       "      <td>75</td>\n",
       "      <td>29.8</td>\n",
       "      <td>149</td>\n",
       "      <td>59.1</td>\n",
       "      <td>7</td>\n",
       "      <td>2.8</td>\n",
       "      <td>149.0</td>\n",
       "      <td>59.1</td>\n",
       "      <td>103.0</td>\n",
       "      <td>40.9</td>\n",
       "    </tr>\n",
       "    <tr>\n",
       "      <td>4</td>\n",
       "      <td>01M015</td>\n",
       "      <td>P.S. 015 ROBERTO CLEMENTE</td>\n",
       "      <td>20092010</td>\n",
       "      <td>96.5</td>\n",
       "      <td>208</td>\n",
       "      <td>40.0</td>\n",
       "      <td>19.2</td>\n",
       "      <td>46.0</td>\n",
       "      <td>22.1</td>\n",
       "      <td>16</td>\n",
       "      <td>...</td>\n",
       "      <td>67</td>\n",
       "      <td>32.2</td>\n",
       "      <td>118</td>\n",
       "      <td>56.7</td>\n",
       "      <td>6</td>\n",
       "      <td>2.9</td>\n",
       "      <td>124.0</td>\n",
       "      <td>59.6</td>\n",
       "      <td>84.0</td>\n",
       "      <td>40.4</td>\n",
       "    </tr>\n",
       "  </tbody>\n",
       "</table>\n",
       "<p>5 rows × 21 columns</p>\n",
       "</div>"
      ],
      "text/plain": [
       "      DBN                       Name  schoolyear  frl_percent  \\\n",
       "0  01M015  P.S. 015 ROBERTO CLEMENTE    20052006          NaN   \n",
       "1  01M015  P.S. 015 ROBERTO CLEMENTE    20062007          NaN   \n",
       "2  01M015  P.S. 015 ROBERTO CLEMENTE    20072008          NaN   \n",
       "3  01M015  P.S. 015 ROBERTO CLEMENTE    20082009          NaN   \n",
       "4  01M015  P.S. 015 ROBERTO CLEMENTE    20092010         96.5   \n",
       "\n",
       "   total_enrollment  ell_num  ell_percent  sped_num  sped_percent  asian_num  \\\n",
       "0               281     36.0         12.8      57.0          20.3         10   \n",
       "1               243     38.0         15.6      55.0          22.6         18   \n",
       "2               261     52.0         19.9      60.0          23.0         16   \n",
       "3               252     48.0         19.0      62.0          24.6         16   \n",
       "4               208     40.0         19.2      46.0          22.1         16   \n",
       "\n",
       "   ...  black_num  black_per  hispanic_num  hispanic_per  white_num  \\\n",
       "0  ...         74       26.3           189          67.3          5   \n",
       "1  ...         68       28.0           153          63.0          4   \n",
       "2  ...         77       29.5           157          60.2          7   \n",
       "3  ...         75       29.8           149          59.1          7   \n",
       "4  ...         67       32.2           118          56.7          6   \n",
       "\n",
       "   white_per  male_num  male_per  female_num  female_per  \n",
       "0        1.8     158.0      56.2       123.0        43.8  \n",
       "1        1.6     140.0      57.6       103.0        42.4  \n",
       "2        2.7     143.0      54.8       118.0        45.2  \n",
       "3        2.8     149.0      59.1       103.0        40.9  \n",
       "4        2.9     124.0      59.6        84.0        40.4  \n",
       "\n",
       "[5 rows x 21 columns]"
      ]
     },
     "execution_count": 262,
     "metadata": {},
     "output_type": "execute_result"
    }
   ],
   "source": [
    "demos = demos.drop(columns=grades)\n",
    "demos = demos.drop(columns=['fl_percent', 'ctt_num', 'selfcontained_num'])\n",
    "demos.head()"
   ]
  },
  {
   "cell_type": "code",
   "execution_count": 263,
   "metadata": {},
   "outputs": [
    {
     "data": {
      "text/plain": [
       "DBN                  object\n",
       "Name                 object\n",
       "schoolyear            int64\n",
       "frl_percent         float64\n",
       "total_enrollment      int64\n",
       "ell_num             float64\n",
       "ell_percent         float64\n",
       "sped_num            float64\n",
       "sped_percent        float64\n",
       "asian_num             int64\n",
       "asian_per           float64\n",
       "black_num             int64\n",
       "black_per           float64\n",
       "hispanic_num          int64\n",
       "hispanic_per        float64\n",
       "white_num             int64\n",
       "white_per           float64\n",
       "male_num            float64\n",
       "male_per            float64\n",
       "female_num          float64\n",
       "female_per          float64\n",
       "dtype: object"
      ]
     },
     "execution_count": 263,
     "metadata": {},
     "output_type": "execute_result"
    }
   ],
   "source": [
    "demos_types = demos.dtypes\n",
    "demos_types"
   ]
  },
  {
   "cell_type": "code",
   "execution_count": 264,
   "metadata": {},
   "outputs": [
    {
     "data": {
      "text/html": [
       "<div>\n",
       "<style scoped>\n",
       "    .dataframe tbody tr th:only-of-type {\n",
       "        vertical-align: middle;\n",
       "    }\n",
       "\n",
       "    .dataframe tbody tr th {\n",
       "        vertical-align: top;\n",
       "    }\n",
       "\n",
       "    .dataframe thead th {\n",
       "        text-align: right;\n",
       "    }\n",
       "</style>\n",
       "<table border=\"1\" class=\"dataframe\">\n",
       "  <thead>\n",
       "    <tr style=\"text-align: right;\">\n",
       "      <th></th>\n",
       "      <th>DBN</th>\n",
       "      <th>Name</th>\n",
       "      <th>schoolyear</th>\n",
       "      <th>frl_percent</th>\n",
       "      <th>total_enrollment</th>\n",
       "      <th>ell_num</th>\n",
       "      <th>ell_percent</th>\n",
       "      <th>sped_num</th>\n",
       "      <th>sped_percent</th>\n",
       "      <th>asian_num</th>\n",
       "      <th>...</th>\n",
       "      <th>black_num</th>\n",
       "      <th>black_per</th>\n",
       "      <th>hispanic_num</th>\n",
       "      <th>hispanic_per</th>\n",
       "      <th>white_num</th>\n",
       "      <th>white_per</th>\n",
       "      <th>male_num</th>\n",
       "      <th>male_per</th>\n",
       "      <th>female_num</th>\n",
       "      <th>female_per</th>\n",
       "    </tr>\n",
       "  </thead>\n",
       "  <tbody>\n",
       "    <tr>\n",
       "      <td>6</td>\n",
       "      <td>01M015</td>\n",
       "      <td>P.S. 015 ROBERTO CLEMENTE</td>\n",
       "      <td>20112012</td>\n",
       "      <td>89.4</td>\n",
       "      <td>189</td>\n",
       "      <td>20.0</td>\n",
       "      <td>10.6</td>\n",
       "      <td>40.0</td>\n",
       "      <td>21.2</td>\n",
       "      <td>12</td>\n",
       "      <td>...</td>\n",
       "      <td>63</td>\n",
       "      <td>33.3</td>\n",
       "      <td>109</td>\n",
       "      <td>57.7</td>\n",
       "      <td>4</td>\n",
       "      <td>2.1</td>\n",
       "      <td>97.0</td>\n",
       "      <td>51.3</td>\n",
       "      <td>92.0</td>\n",
       "      <td>48.7</td>\n",
       "    </tr>\n",
       "    <tr>\n",
       "      <td>13</td>\n",
       "      <td>01M019</td>\n",
       "      <td>P.S. 019 ASHER LEVY</td>\n",
       "      <td>20112012</td>\n",
       "      <td>61.5</td>\n",
       "      <td>328</td>\n",
       "      <td>33.0</td>\n",
       "      <td>10.1</td>\n",
       "      <td>59.0</td>\n",
       "      <td>18.0</td>\n",
       "      <td>51</td>\n",
       "      <td>...</td>\n",
       "      <td>81</td>\n",
       "      <td>24.7</td>\n",
       "      <td>158</td>\n",
       "      <td>48.2</td>\n",
       "      <td>28</td>\n",
       "      <td>8.5</td>\n",
       "      <td>147.0</td>\n",
       "      <td>44.8</td>\n",
       "      <td>181.0</td>\n",
       "      <td>55.2</td>\n",
       "    </tr>\n",
       "    <tr>\n",
       "      <td>20</td>\n",
       "      <td>01M020</td>\n",
       "      <td>PS 020 ANNA SILVER</td>\n",
       "      <td>20112012</td>\n",
       "      <td>92.5</td>\n",
       "      <td>626</td>\n",
       "      <td>128.0</td>\n",
       "      <td>20.4</td>\n",
       "      <td>97.0</td>\n",
       "      <td>15.5</td>\n",
       "      <td>190</td>\n",
       "      <td>...</td>\n",
       "      <td>55</td>\n",
       "      <td>8.8</td>\n",
       "      <td>357</td>\n",
       "      <td>57.0</td>\n",
       "      <td>16</td>\n",
       "      <td>2.6</td>\n",
       "      <td>330.0</td>\n",
       "      <td>52.7</td>\n",
       "      <td>296.0</td>\n",
       "      <td>47.3</td>\n",
       "    </tr>\n",
       "    <tr>\n",
       "      <td>27</td>\n",
       "      <td>01M034</td>\n",
       "      <td>PS 034 FRANKLIN D ROOSEVELT</td>\n",
       "      <td>20112012</td>\n",
       "      <td>99.7</td>\n",
       "      <td>401</td>\n",
       "      <td>34.0</td>\n",
       "      <td>8.5</td>\n",
       "      <td>106.0</td>\n",
       "      <td>26.4</td>\n",
       "      <td>22</td>\n",
       "      <td>...</td>\n",
       "      <td>90</td>\n",
       "      <td>22.4</td>\n",
       "      <td>275</td>\n",
       "      <td>68.6</td>\n",
       "      <td>8</td>\n",
       "      <td>2.0</td>\n",
       "      <td>204.0</td>\n",
       "      <td>50.9</td>\n",
       "      <td>197.0</td>\n",
       "      <td>49.1</td>\n",
       "    </tr>\n",
       "    <tr>\n",
       "      <td>35</td>\n",
       "      <td>01M063</td>\n",
       "      <td>PS 063 WILLIAM MCKINLEY</td>\n",
       "      <td>20112012</td>\n",
       "      <td>78.9</td>\n",
       "      <td>176</td>\n",
       "      <td>6.0</td>\n",
       "      <td>3.4</td>\n",
       "      <td>45.0</td>\n",
       "      <td>25.6</td>\n",
       "      <td>9</td>\n",
       "      <td>...</td>\n",
       "      <td>41</td>\n",
       "      <td>23.3</td>\n",
       "      <td>110</td>\n",
       "      <td>62.5</td>\n",
       "      <td>15</td>\n",
       "      <td>8.5</td>\n",
       "      <td>97.0</td>\n",
       "      <td>55.1</td>\n",
       "      <td>79.0</td>\n",
       "      <td>44.9</td>\n",
       "    </tr>\n",
       "  </tbody>\n",
       "</table>\n",
       "<p>5 rows × 21 columns</p>\n",
       "</div>"
      ],
      "text/plain": [
       "       DBN                                              Name  schoolyear  \\\n",
       "6   01M015  P.S. 015 ROBERTO CLEMENTE                           20112012   \n",
       "13  01M019  P.S. 019 ASHER LEVY                                 20112012   \n",
       "20  01M020  PS 020 ANNA SILVER                                  20112012   \n",
       "27  01M034  PS 034 FRANKLIN D ROOSEVELT                         20112012   \n",
       "35  01M063  PS 063 WILLIAM MCKINLEY                             20112012   \n",
       "\n",
       "    frl_percent  total_enrollment  ell_num  ell_percent  sped_num  \\\n",
       "6          89.4               189     20.0         10.6      40.0   \n",
       "13         61.5               328     33.0         10.1      59.0   \n",
       "20         92.5               626    128.0         20.4      97.0   \n",
       "27         99.7               401     34.0          8.5     106.0   \n",
       "35         78.9               176      6.0          3.4      45.0   \n",
       "\n",
       "    sped_percent  asian_num  ...  black_num  black_per  hispanic_num  \\\n",
       "6           21.2         12  ...         63       33.3           109   \n",
       "13          18.0         51  ...         81       24.7           158   \n",
       "20          15.5        190  ...         55        8.8           357   \n",
       "27          26.4         22  ...         90       22.4           275   \n",
       "35          25.6          9  ...         41       23.3           110   \n",
       "\n",
       "    hispanic_per  white_num  white_per  male_num  male_per  female_num  \\\n",
       "6           57.7          4        2.1      97.0      51.3        92.0   \n",
       "13          48.2         28        8.5     147.0      44.8       181.0   \n",
       "20          57.0         16        2.6     330.0      52.7       296.0   \n",
       "27          68.6          8        2.0     204.0      50.9       197.0   \n",
       "35          62.5         15        8.5      97.0      55.1        79.0   \n",
       "\n",
       "    female_per  \n",
       "6         48.7  \n",
       "13        55.2  \n",
       "20        47.3  \n",
       "27        49.1  \n",
       "35        44.9  \n",
       "\n",
       "[5 rows x 21 columns]"
      ]
     },
     "execution_count": 264,
     "metadata": {},
     "output_type": "execute_result"
    }
   ],
   "source": [
    "demos = demos.loc[demos['schoolyear'] == 20112012]\n",
    "demos.head()"
   ]
  },
  {
   "cell_type": "markdown",
   "metadata": {},
   "source": [
    "#### Detect and Handle Missing Data "
   ]
  },
  {
   "cell_type": "code",
   "execution_count": 265,
   "metadata": {},
   "outputs": [
    {
     "name": "stdout",
     "output_type": "stream",
     "text": [
      "DBN: False\n",
      "Name: False\n",
      "schoolyear: False\n",
      "frl_percent: False\n",
      "total_enrollment: False\n",
      "ell_num: False\n",
      "ell_percent: False\n",
      "sped_num: False\n",
      "sped_percent: False\n",
      "asian_num: False\n",
      "asian_per: False\n",
      "black_num: False\n",
      "black_per: False\n",
      "hispanic_num: False\n",
      "hispanic_per: False\n",
      "white_num: False\n",
      "white_per: False\n",
      "male_num: False\n",
      "male_per: False\n",
      "female_num: False\n",
      "female_per: False\n"
     ]
    }
   ],
   "source": [
    "demos_cols = list(demos.columns)\n",
    "for c in demos_cols:\n",
    "    print(c + ': ' + str(demos[c].isnull().values.any()))"
   ]
  },
  {
   "cell_type": "markdown",
   "metadata": {},
   "source": [
    "Since no null values were detected for the information expressed in both percentages and numbers, I will only keep the percentage columns"
   ]
  },
  {
   "cell_type": "code",
   "execution_count": 266,
   "metadata": {},
   "outputs": [
    {
     "data": {
      "text/html": [
       "<div>\n",
       "<style scoped>\n",
       "    .dataframe tbody tr th:only-of-type {\n",
       "        vertical-align: middle;\n",
       "    }\n",
       "\n",
       "    .dataframe tbody tr th {\n",
       "        vertical-align: top;\n",
       "    }\n",
       "\n",
       "    .dataframe thead th {\n",
       "        text-align: right;\n",
       "    }\n",
       "</style>\n",
       "<table border=\"1\" class=\"dataframe\">\n",
       "  <thead>\n",
       "    <tr style=\"text-align: right;\">\n",
       "      <th></th>\n",
       "      <th>DBN</th>\n",
       "      <th>Name</th>\n",
       "      <th>frl_percent</th>\n",
       "      <th>total_enrollment</th>\n",
       "      <th>ell_percent</th>\n",
       "      <th>sped_percent</th>\n",
       "      <th>asian_per</th>\n",
       "      <th>black_per</th>\n",
       "      <th>hispanic_per</th>\n",
       "      <th>white_per</th>\n",
       "      <th>male_per</th>\n",
       "      <th>female_per</th>\n",
       "    </tr>\n",
       "  </thead>\n",
       "  <tbody>\n",
       "    <tr>\n",
       "      <td>0</td>\n",
       "      <td>01M015</td>\n",
       "      <td>P.S. 015 ROBERTO CLEMENTE</td>\n",
       "      <td>89.4</td>\n",
       "      <td>189</td>\n",
       "      <td>10.6</td>\n",
       "      <td>21.2</td>\n",
       "      <td>6.3</td>\n",
       "      <td>33.3</td>\n",
       "      <td>57.7</td>\n",
       "      <td>2.1</td>\n",
       "      <td>51.3</td>\n",
       "      <td>48.7</td>\n",
       "    </tr>\n",
       "    <tr>\n",
       "      <td>1</td>\n",
       "      <td>01M019</td>\n",
       "      <td>P.S. 019 ASHER LEVY</td>\n",
       "      <td>61.5</td>\n",
       "      <td>328</td>\n",
       "      <td>10.1</td>\n",
       "      <td>18.0</td>\n",
       "      <td>15.5</td>\n",
       "      <td>24.7</td>\n",
       "      <td>48.2</td>\n",
       "      <td>8.5</td>\n",
       "      <td>44.8</td>\n",
       "      <td>55.2</td>\n",
       "    </tr>\n",
       "    <tr>\n",
       "      <td>2</td>\n",
       "      <td>01M020</td>\n",
       "      <td>PS 020 ANNA SILVER</td>\n",
       "      <td>92.5</td>\n",
       "      <td>626</td>\n",
       "      <td>20.4</td>\n",
       "      <td>15.5</td>\n",
       "      <td>30.4</td>\n",
       "      <td>8.8</td>\n",
       "      <td>57.0</td>\n",
       "      <td>2.6</td>\n",
       "      <td>52.7</td>\n",
       "      <td>47.3</td>\n",
       "    </tr>\n",
       "    <tr>\n",
       "      <td>3</td>\n",
       "      <td>01M034</td>\n",
       "      <td>PS 034 FRANKLIN D ROOSEVELT</td>\n",
       "      <td>99.7</td>\n",
       "      <td>401</td>\n",
       "      <td>8.5</td>\n",
       "      <td>26.4</td>\n",
       "      <td>5.5</td>\n",
       "      <td>22.4</td>\n",
       "      <td>68.6</td>\n",
       "      <td>2.0</td>\n",
       "      <td>50.9</td>\n",
       "      <td>49.1</td>\n",
       "    </tr>\n",
       "    <tr>\n",
       "      <td>4</td>\n",
       "      <td>01M063</td>\n",
       "      <td>PS 063 WILLIAM MCKINLEY</td>\n",
       "      <td>78.9</td>\n",
       "      <td>176</td>\n",
       "      <td>3.4</td>\n",
       "      <td>25.6</td>\n",
       "      <td>5.1</td>\n",
       "      <td>23.3</td>\n",
       "      <td>62.5</td>\n",
       "      <td>8.5</td>\n",
       "      <td>55.1</td>\n",
       "      <td>44.9</td>\n",
       "    </tr>\n",
       "  </tbody>\n",
       "</table>\n",
       "</div>"
      ],
      "text/plain": [
       "      DBN                                              Name  frl_percent  \\\n",
       "0  01M015  P.S. 015 ROBERTO CLEMENTE                                89.4   \n",
       "1  01M019  P.S. 019 ASHER LEVY                                      61.5   \n",
       "2  01M020  PS 020 ANNA SILVER                                       92.5   \n",
       "3  01M034  PS 034 FRANKLIN D ROOSEVELT                              99.7   \n",
       "4  01M063  PS 063 WILLIAM MCKINLEY                                  78.9   \n",
       "\n",
       "   total_enrollment  ell_percent  sped_percent  asian_per  black_per  \\\n",
       "0               189         10.6          21.2        6.3       33.3   \n",
       "1               328         10.1          18.0       15.5       24.7   \n",
       "2               626         20.4          15.5       30.4        8.8   \n",
       "3               401          8.5          26.4        5.5       22.4   \n",
       "4               176          3.4          25.6        5.1       23.3   \n",
       "\n",
       "   hispanic_per  white_per  male_per  female_per  \n",
       "0          57.7        2.1      51.3        48.7  \n",
       "1          48.2        8.5      44.8        55.2  \n",
       "2          57.0        2.6      52.7        47.3  \n",
       "3          68.6        2.0      50.9        49.1  \n",
       "4          62.5        8.5      55.1        44.9  "
      ]
     },
     "execution_count": 266,
     "metadata": {},
     "output_type": "execute_result"
    }
   ],
   "source": [
    "demos = demos.drop(columns=['schoolyear','ell_num', 'sped_num', 'asian_num', 'black_num', 'hispanic_num', 'white_num', 'male_num', 'female_num'])\n",
    "demos = demos.reset_index(drop=True)\n",
    "demos.head()"
   ]
  },
  {
   "cell_type": "code",
   "execution_count": 284,
   "metadata": {},
   "outputs": [
    {
     "data": {
      "text/html": [
       "<div>\n",
       "<style scoped>\n",
       "    .dataframe tbody tr th:only-of-type {\n",
       "        vertical-align: middle;\n",
       "    }\n",
       "\n",
       "    .dataframe tbody tr th {\n",
       "        vertical-align: top;\n",
       "    }\n",
       "\n",
       "    .dataframe thead th {\n",
       "        text-align: right;\n",
       "    }\n",
       "</style>\n",
       "<table border=\"1\" class=\"dataframe\">\n",
       "  <thead>\n",
       "    <tr style=\"text-align: right;\">\n",
       "      <th></th>\n",
       "      <th>DBN</th>\n",
       "      <th>Name</th>\n",
       "      <th>frl_percent</th>\n",
       "      <th>total_enrollment</th>\n",
       "      <th>ell_percent</th>\n",
       "      <th>sped_percent</th>\n",
       "      <th>asian_per</th>\n",
       "      <th>black_per</th>\n",
       "      <th>hispanic_per</th>\n",
       "      <th>white_per</th>\n",
       "      <th>male_per</th>\n",
       "      <th>female_per</th>\n",
       "    </tr>\n",
       "  </thead>\n",
       "  <tbody>\n",
       "    <tr>\n",
       "      <td>0</td>\n",
       "      <td>01M292</td>\n",
       "      <td>HENRY STREET SCHOOL FOR INTERNATIONAL STUDIES</td>\n",
       "      <td>88.6</td>\n",
       "      <td>422</td>\n",
       "      <td>22.3</td>\n",
       "      <td>24.9</td>\n",
       "      <td>14.0</td>\n",
       "      <td>29.1</td>\n",
       "      <td>53.8</td>\n",
       "      <td>1.7</td>\n",
       "      <td>61.4</td>\n",
       "      <td>38.6</td>\n",
       "    </tr>\n",
       "    <tr>\n",
       "      <td>1</td>\n",
       "      <td>01M448</td>\n",
       "      <td>UNIVERSITY NEIGHBORHOOD HIGH SCHOOL</td>\n",
       "      <td>71.8</td>\n",
       "      <td>394</td>\n",
       "      <td>21.1</td>\n",
       "      <td>21.8</td>\n",
       "      <td>29.2</td>\n",
       "      <td>22.6</td>\n",
       "      <td>45.9</td>\n",
       "      <td>2.3</td>\n",
       "      <td>57.4</td>\n",
       "      <td>42.6</td>\n",
       "    </tr>\n",
       "    <tr>\n",
       "      <td>2</td>\n",
       "      <td>01M450</td>\n",
       "      <td>EAST SIDE COMMUNITY HIGH SCHOOL</td>\n",
       "      <td>71.8</td>\n",
       "      <td>598</td>\n",
       "      <td>5.0</td>\n",
       "      <td>26.4</td>\n",
       "      <td>9.7</td>\n",
       "      <td>23.9</td>\n",
       "      <td>55.4</td>\n",
       "      <td>10.4</td>\n",
       "      <td>54.7</td>\n",
       "      <td>45.3</td>\n",
       "    </tr>\n",
       "    <tr>\n",
       "      <td>3</td>\n",
       "      <td>01M458</td>\n",
       "      <td>SATELLITE ACADEMY HS @ FORSYTHE STREET</td>\n",
       "      <td>72.8</td>\n",
       "      <td>224</td>\n",
       "      <td>4.0</td>\n",
       "      <td>8.9</td>\n",
       "      <td>2.2</td>\n",
       "      <td>34.4</td>\n",
       "      <td>59.4</td>\n",
       "      <td>3.6</td>\n",
       "      <td>43.3</td>\n",
       "      <td>56.7</td>\n",
       "    </tr>\n",
       "    <tr>\n",
       "      <td>4</td>\n",
       "      <td>01M509</td>\n",
       "      <td>MARTA VALLE SECONDARY SCHOOL</td>\n",
       "      <td>80.7</td>\n",
       "      <td>367</td>\n",
       "      <td>11.2</td>\n",
       "      <td>25.9</td>\n",
       "      <td>9.3</td>\n",
       "      <td>31.6</td>\n",
       "      <td>56.9</td>\n",
       "      <td>1.6</td>\n",
       "      <td>46.3</td>\n",
       "      <td>53.7</td>\n",
       "    </tr>\n",
       "  </tbody>\n",
       "</table>\n",
       "</div>"
      ],
      "text/plain": [
       "      DBN                                              Name  frl_percent  \\\n",
       "0  01M292  HENRY STREET SCHOOL FOR INTERNATIONAL STUDIES            88.6   \n",
       "1  01M448  UNIVERSITY NEIGHBORHOOD HIGH SCHOOL                      71.8   \n",
       "2  01M450  EAST SIDE COMMUNITY HIGH SCHOOL                          71.8   \n",
       "3  01M458  SATELLITE ACADEMY HS @ FORSYTHE STREET                   72.8   \n",
       "4  01M509  MARTA VALLE SECONDARY SCHOOL                             80.7   \n",
       "\n",
       "   total_enrollment  ell_percent  sped_percent  asian_per  black_per  \\\n",
       "0               422         22.3          24.9       14.0       29.1   \n",
       "1               394         21.1          21.8       29.2       22.6   \n",
       "2               598          5.0          26.4        9.7       23.9   \n",
       "3               224          4.0           8.9        2.2       34.4   \n",
       "4               367         11.2          25.9        9.3       31.6   \n",
       "\n",
       "   hispanic_per  white_per  male_per  female_per  \n",
       "0          53.8        1.7      61.4        38.6  \n",
       "1          45.9        2.3      57.4        42.6  \n",
       "2          55.4       10.4      54.7        45.3  \n",
       "3          59.4        3.6      43.3        56.7  \n",
       "4          56.9        1.6      46.3        53.7  "
      ]
     },
     "execution_count": 284,
     "metadata": {},
     "output_type": "execute_result"
    }
   ],
   "source": [
    "#remove rows for schools not present in the SAT data\n",
    "for i, row in demos.iterrows():\n",
    "    dbn = row['DBN']\n",
    "    if dbn not in sat_dbns:\n",
    "        demos = demos.drop(index = i)\n",
    "demos = demos.reset_index(drop=True)\n",
    "demos.head()"
   ]
  },
  {
   "cell_type": "code",
   "execution_count": 285,
   "metadata": {
    "scrolled": true
   },
   "outputs": [
    {
     "name": "stdout",
     "output_type": "stream",
     "text": [
      "DBN: False\n",
      "Name: False\n",
      "frl_percent: False\n",
      "total_enrollment: False\n",
      "ell_percent: False\n",
      "sped_percent: False\n",
      "asian_per: False\n",
      "black_per: False\n",
      "hispanic_per: False\n",
      "white_per: False\n",
      "male_per: False\n",
      "female_per: False\n"
     ]
    }
   ],
   "source": [
    "#ensure there is no missing data\n",
    "demos_cols = list(demos.columns)\n",
    "for c in demos_cols:\n",
    "    print(c + ': ' + str(demos[c].isnull().values.any()))"
   ]
  },
  {
   "cell_type": "markdown",
   "metadata": {},
   "source": [
    "## Combining the Data "
   ]
  },
  {
   "cell_type": "code",
   "execution_count": 681,
   "metadata": {
    "scrolled": false
   },
   "outputs": [
    {
     "data": {
      "text/html": [
       "<div>\n",
       "<style scoped>\n",
       "    .dataframe tbody tr th:only-of-type {\n",
       "        vertical-align: middle;\n",
       "    }\n",
       "\n",
       "    .dataframe tbody tr th {\n",
       "        vertical-align: top;\n",
       "    }\n",
       "\n",
       "    .dataframe thead th {\n",
       "        text-align: right;\n",
       "    }\n",
       "</style>\n",
       "<table border=\"1\" class=\"dataframe\">\n",
       "  <thead>\n",
       "    <tr style=\"text-align: right;\">\n",
       "      <th></th>\n",
       "      <th>DBN</th>\n",
       "      <th>SCHOOL NAME</th>\n",
       "      <th>Num of SAT Test Takers</th>\n",
       "      <th>SAT Raw Composite Avg. Score</th>\n",
       "      <th>SAT Composite Avg. Score</th>\n",
       "      <th>SAT Critical Reading Avg. Score</th>\n",
       "      <th>SAT Math Avg. Score</th>\n",
       "      <th>SAT Writing Avg. Score</th>\n",
       "      <th>frl_percent</th>\n",
       "      <th>total_enrollment</th>\n",
       "      <th>ell_percent</th>\n",
       "      <th>sped_percent</th>\n",
       "      <th>asian_per</th>\n",
       "      <th>black_per</th>\n",
       "      <th>hispanic_per</th>\n",
       "      <th>white_per</th>\n",
       "      <th>male_per</th>\n",
       "      <th>female_per</th>\n",
       "    </tr>\n",
       "  </thead>\n",
       "  <tbody>\n",
       "    <tr>\n",
       "      <td>0</td>\n",
       "      <td>01M292</td>\n",
       "      <td>HENRY STREET SCHOOL FOR INTERNATIONAL STUDIES</td>\n",
       "      <td>29</td>\n",
       "      <td>1122</td>\n",
       "      <td>600-1220</td>\n",
       "      <td>200-400</td>\n",
       "      <td>200-410</td>\n",
       "      <td>200-390</td>\n",
       "      <td>88.6</td>\n",
       "      <td>422.0</td>\n",
       "      <td>22.3</td>\n",
       "      <td>24.9</td>\n",
       "      <td>14.0</td>\n",
       "      <td>29.1</td>\n",
       "      <td>53.8</td>\n",
       "      <td>1.7</td>\n",
       "      <td>61.4</td>\n",
       "      <td>38.6</td>\n",
       "    </tr>\n",
       "    <tr>\n",
       "      <td>1</td>\n",
       "      <td>01M448</td>\n",
       "      <td>UNIVERSITY NEIGHBORHOOD HIGH SCHOOL</td>\n",
       "      <td>91</td>\n",
       "      <td>1172</td>\n",
       "      <td>600-1220</td>\n",
       "      <td>200-400</td>\n",
       "      <td>420-510</td>\n",
       "      <td>200-390</td>\n",
       "      <td>71.8</td>\n",
       "      <td>394.0</td>\n",
       "      <td>21.1</td>\n",
       "      <td>21.8</td>\n",
       "      <td>29.2</td>\n",
       "      <td>22.6</td>\n",
       "      <td>45.9</td>\n",
       "      <td>2.3</td>\n",
       "      <td>57.4</td>\n",
       "      <td>42.6</td>\n",
       "    </tr>\n",
       "    <tr>\n",
       "      <td>2</td>\n",
       "      <td>01M450</td>\n",
       "      <td>EAST SIDE COMMUNITY SCHOOL</td>\n",
       "      <td>70</td>\n",
       "      <td>1149</td>\n",
       "      <td>600-1220</td>\n",
       "      <td>200-400</td>\n",
       "      <td>200-410</td>\n",
       "      <td>200-390</td>\n",
       "      <td>71.8</td>\n",
       "      <td>598.0</td>\n",
       "      <td>5.0</td>\n",
       "      <td>26.4</td>\n",
       "      <td>9.7</td>\n",
       "      <td>23.9</td>\n",
       "      <td>55.4</td>\n",
       "      <td>10.4</td>\n",
       "      <td>54.7</td>\n",
       "      <td>45.3</td>\n",
       "    </tr>\n",
       "    <tr>\n",
       "      <td>3</td>\n",
       "      <td>01M458</td>\n",
       "      <td>FORSYTH SATELLITE ACADEMY</td>\n",
       "      <td>7</td>\n",
       "      <td>1174</td>\n",
       "      <td>600-1220</td>\n",
       "      <td>410-490</td>\n",
       "      <td>200-410</td>\n",
       "      <td>200-390</td>\n",
       "      <td>72.8</td>\n",
       "      <td>224.0</td>\n",
       "      <td>4.0</td>\n",
       "      <td>8.9</td>\n",
       "      <td>2.2</td>\n",
       "      <td>34.4</td>\n",
       "      <td>59.4</td>\n",
       "      <td>3.6</td>\n",
       "      <td>43.3</td>\n",
       "      <td>56.7</td>\n",
       "    </tr>\n",
       "    <tr>\n",
       "      <td>4</td>\n",
       "      <td>01M509</td>\n",
       "      <td>MARTA VALLE HIGH SCHOOL</td>\n",
       "      <td>44</td>\n",
       "      <td>1207</td>\n",
       "      <td>600-1220</td>\n",
       "      <td>200-400</td>\n",
       "      <td>420-510</td>\n",
       "      <td>200-390</td>\n",
       "      <td>80.7</td>\n",
       "      <td>367.0</td>\n",
       "      <td>11.2</td>\n",
       "      <td>25.9</td>\n",
       "      <td>9.3</td>\n",
       "      <td>31.6</td>\n",
       "      <td>56.9</td>\n",
       "      <td>1.6</td>\n",
       "      <td>46.3</td>\n",
       "      <td>53.7</td>\n",
       "    </tr>\n",
       "  </tbody>\n",
       "</table>\n",
       "</div>"
      ],
      "text/plain": [
       "      DBN                                    SCHOOL NAME  \\\n",
       "0  01M292  HENRY STREET SCHOOL FOR INTERNATIONAL STUDIES   \n",
       "1  01M448            UNIVERSITY NEIGHBORHOOD HIGH SCHOOL   \n",
       "2  01M450                     EAST SIDE COMMUNITY SCHOOL   \n",
       "3  01M458                      FORSYTH SATELLITE ACADEMY   \n",
       "4  01M509                        MARTA VALLE HIGH SCHOOL   \n",
       "\n",
       "  Num of SAT Test Takers SAT Raw Composite Avg. Score  \\\n",
       "0                     29                         1122   \n",
       "1                     91                         1172   \n",
       "2                     70                         1149   \n",
       "3                      7                         1174   \n",
       "4                     44                         1207   \n",
       "\n",
       "  SAT Composite Avg. Score SAT Critical Reading Avg. Score  \\\n",
       "0                 600-1220                         200-400   \n",
       "1                 600-1220                         200-400   \n",
       "2                 600-1220                         200-400   \n",
       "3                 600-1220                         410-490   \n",
       "4                 600-1220                         200-400   \n",
       "\n",
       "  SAT Math Avg. Score SAT Writing Avg. Score  frl_percent  total_enrollment  \\\n",
       "0             200-410                200-390         88.6             422.0   \n",
       "1             420-510                200-390         71.8             394.0   \n",
       "2             200-410                200-390         71.8             598.0   \n",
       "3             200-410                200-390         72.8             224.0   \n",
       "4             420-510                200-390         80.7             367.0   \n",
       "\n",
       "   ell_percent  sped_percent  asian_per  black_per  hispanic_per  white_per  \\\n",
       "0         22.3          24.9       14.0       29.1          53.8        1.7   \n",
       "1         21.1          21.8       29.2       22.6          45.9        2.3   \n",
       "2          5.0          26.4        9.7       23.9          55.4       10.4   \n",
       "3          4.0           8.9        2.2       34.4          59.4        3.6   \n",
       "4         11.2          25.9        9.3       31.6          56.9        1.6   \n",
       "\n",
       "   male_per  female_per  \n",
       "0      61.4        38.6  \n",
       "1      57.4        42.6  \n",
       "2      54.7        45.3  \n",
       "3      43.3        56.7  \n",
       "4      46.3        53.7  "
      ]
     },
     "execution_count": 681,
     "metadata": {},
     "output_type": "execute_result"
    }
   ],
   "source": [
    "sat_demos = pd.merge(sat, demos, on='DBN', how='outer')\n",
    "sat_demos = sat_demos.drop(columns=['Name'])\n",
    "sat_demos.head()"
   ]
  },
  {
   "cell_type": "code",
   "execution_count": 558,
   "metadata": {},
   "outputs": [
    {
     "data": {
      "text/plain": [
       "(478, 450, 478)"
      ]
     },
     "execution_count": 558,
     "metadata": {},
     "output_type": "execute_result"
    }
   ],
   "source": [
    "sat_demos_rows = sat_demos.shape[0]\n",
    "sat_rows = sat.shape[0]\n",
    "demos_rows = demos.shape[0]\n",
    "sat_rows, demos_rows, sat_demos_rows"
   ]
  },
  {
   "cell_type": "markdown",
   "metadata": {},
   "source": [
    "Schools with suppressed SAT data can demonstrate something valuable. But, if any school's demographics data is missing, we cannot perform the analysis necessary. Thus, all rows with missing demographic data will be dropped"
   ]
  },
  {
   "cell_type": "code",
   "execution_count": 559,
   "metadata": {},
   "outputs": [
    {
     "data": {
      "text/plain": [
       "['frl_percent',\n",
       " 'total_enrollment',\n",
       " 'ell_percent',\n",
       " 'sped_percent',\n",
       " 'asian_per',\n",
       " 'black_per',\n",
       " 'hispanic_per',\n",
       " 'white_per',\n",
       " 'male_per',\n",
       " 'female_per']"
      ]
     },
     "execution_count": 559,
     "metadata": {},
     "output_type": "execute_result"
    }
   ],
   "source": [
    "dem_titles = demos_cols[2:]\n",
    "dem_titles"
   ]
  },
  {
   "cell_type": "code",
   "execution_count": 560,
   "metadata": {},
   "outputs": [],
   "source": [
    "for i, row in sat_demos.iterrows():\n",
    "    dems = []\n",
    "    for c in dem_titles:\n",
    "        dems.append(np.isnan(row[c]))\n",
    "    if all(dems):\n",
    "        sat_demos = sat_demos.drop(index = i)"
   ]
  },
  {
   "cell_type": "markdown",
   "metadata": {},
   "source": [
    "To streamline analysis, a column storing percentage of students enrolled who took the SAT will replace the 'Num of SAT Test Takers' and 'total_enrollment' columns. The percentage is calculated by dividing the figures in 'Num of SAT Test Takers' by those in 'total_enrollment.' For rows that have supressed SAT data, 0 will be inputted"
   ]
  },
  {
   "cell_type": "code",
   "execution_count": 682,
   "metadata": {},
   "outputs": [],
   "source": [
    "percent_takers = []\n",
    "for i, row in sat_demos.iterrows():\n",
    "    n = row['Num of SAT Test Takers']\n",
    "    enrolled = row['total_enrollment']\n",
    "    if n == 's':\n",
    "        percent_takers.append(0)\n",
    "        continue\n",
    "    percent = round((int(n) / enrolled) * 100, 1)\n",
    "    percent_takers.append(percent)"
   ]
  },
  {
   "cell_type": "code",
   "execution_count": 562,
   "metadata": {},
   "outputs": [],
   "source": [
    "sat_demos = sat_demos.drop(columns=['Num of SAT Test Takers', 'total_enrollment'])\n",
    "sat_demos.insert(2, 'Percent of Students Enrolled Who Took SAT', percent_takers)"
   ]
  },
  {
   "cell_type": "markdown",
   "metadata": {},
   "source": [
    "### Visualizing SAT Scores and Demographics "
   ]
  },
  {
   "cell_type": "code",
   "execution_count": 563,
   "metadata": {},
   "outputs": [
    {
     "data": {
      "text/html": [
       "<div>\n",
       "<style scoped>\n",
       "    .dataframe tbody tr th:only-of-type {\n",
       "        vertical-align: middle;\n",
       "    }\n",
       "\n",
       "    .dataframe tbody tr th {\n",
       "        vertical-align: top;\n",
       "    }\n",
       "\n",
       "    .dataframe thead th {\n",
       "        text-align: right;\n",
       "    }\n",
       "</style>\n",
       "<table border=\"1\" class=\"dataframe\">\n",
       "  <thead>\n",
       "    <tr style=\"text-align: right;\">\n",
       "      <th></th>\n",
       "      <th>DBN</th>\n",
       "      <th>SCHOOL NAME</th>\n",
       "      <th>Percent of Students Enrolled Who Took SAT</th>\n",
       "      <th>SAT Composite Avg. Score</th>\n",
       "      <th>SAT Critical Reading Avg. Score</th>\n",
       "      <th>SAT Math Avg. Score</th>\n",
       "      <th>SAT Writing Avg. Score</th>\n",
       "      <th>frl_percent</th>\n",
       "      <th>ell_percent</th>\n",
       "      <th>sped_percent</th>\n",
       "      <th>asian_per</th>\n",
       "      <th>black_per</th>\n",
       "      <th>hispanic_per</th>\n",
       "      <th>white_per</th>\n",
       "      <th>male_per</th>\n",
       "      <th>female_per</th>\n",
       "    </tr>\n",
       "  </thead>\n",
       "  <tbody>\n",
       "    <tr>\n",
       "      <td>0</td>\n",
       "      <td>01M292</td>\n",
       "      <td>HENRY STREET SCHOOL FOR INTERNATIONAL STUDIES</td>\n",
       "      <td>6.9</td>\n",
       "      <td>600-1220</td>\n",
       "      <td>200-400</td>\n",
       "      <td>200-410</td>\n",
       "      <td>200-390</td>\n",
       "      <td>88.6</td>\n",
       "      <td>22.3</td>\n",
       "      <td>24.9</td>\n",
       "      <td>14.0</td>\n",
       "      <td>29.1</td>\n",
       "      <td>53.8</td>\n",
       "      <td>1.7</td>\n",
       "      <td>61.4</td>\n",
       "      <td>38.6</td>\n",
       "    </tr>\n",
       "    <tr>\n",
       "      <td>1</td>\n",
       "      <td>01M448</td>\n",
       "      <td>UNIVERSITY NEIGHBORHOOD HIGH SCHOOL</td>\n",
       "      <td>23.1</td>\n",
       "      <td>600-1220</td>\n",
       "      <td>200-400</td>\n",
       "      <td>420-510</td>\n",
       "      <td>200-390</td>\n",
       "      <td>71.8</td>\n",
       "      <td>21.1</td>\n",
       "      <td>21.8</td>\n",
       "      <td>29.2</td>\n",
       "      <td>22.6</td>\n",
       "      <td>45.9</td>\n",
       "      <td>2.3</td>\n",
       "      <td>57.4</td>\n",
       "      <td>42.6</td>\n",
       "    </tr>\n",
       "    <tr>\n",
       "      <td>2</td>\n",
       "      <td>01M450</td>\n",
       "      <td>EAST SIDE COMMUNITY SCHOOL</td>\n",
       "      <td>11.7</td>\n",
       "      <td>600-1220</td>\n",
       "      <td>200-400</td>\n",
       "      <td>200-410</td>\n",
       "      <td>200-390</td>\n",
       "      <td>71.8</td>\n",
       "      <td>5.0</td>\n",
       "      <td>26.4</td>\n",
       "      <td>9.7</td>\n",
       "      <td>23.9</td>\n",
       "      <td>55.4</td>\n",
       "      <td>10.4</td>\n",
       "      <td>54.7</td>\n",
       "      <td>45.3</td>\n",
       "    </tr>\n",
       "    <tr>\n",
       "      <td>3</td>\n",
       "      <td>01M458</td>\n",
       "      <td>FORSYTH SATELLITE ACADEMY</td>\n",
       "      <td>3.1</td>\n",
       "      <td>600-1220</td>\n",
       "      <td>410-490</td>\n",
       "      <td>200-410</td>\n",
       "      <td>200-390</td>\n",
       "      <td>72.8</td>\n",
       "      <td>4.0</td>\n",
       "      <td>8.9</td>\n",
       "      <td>2.2</td>\n",
       "      <td>34.4</td>\n",
       "      <td>59.4</td>\n",
       "      <td>3.6</td>\n",
       "      <td>43.3</td>\n",
       "      <td>56.7</td>\n",
       "    </tr>\n",
       "    <tr>\n",
       "      <td>4</td>\n",
       "      <td>01M509</td>\n",
       "      <td>MARTA VALLE HIGH SCHOOL</td>\n",
       "      <td>12.0</td>\n",
       "      <td>600-1220</td>\n",
       "      <td>200-400</td>\n",
       "      <td>420-510</td>\n",
       "      <td>200-390</td>\n",
       "      <td>80.7</td>\n",
       "      <td>11.2</td>\n",
       "      <td>25.9</td>\n",
       "      <td>9.3</td>\n",
       "      <td>31.6</td>\n",
       "      <td>56.9</td>\n",
       "      <td>1.6</td>\n",
       "      <td>46.3</td>\n",
       "      <td>53.7</td>\n",
       "    </tr>\n",
       "  </tbody>\n",
       "</table>\n",
       "</div>"
      ],
      "text/plain": [
       "      DBN                                    SCHOOL NAME  \\\n",
       "0  01M292  HENRY STREET SCHOOL FOR INTERNATIONAL STUDIES   \n",
       "1  01M448            UNIVERSITY NEIGHBORHOOD HIGH SCHOOL   \n",
       "2  01M450                     EAST SIDE COMMUNITY SCHOOL   \n",
       "3  01M458                      FORSYTH SATELLITE ACADEMY   \n",
       "4  01M509                        MARTA VALLE HIGH SCHOOL   \n",
       "\n",
       "   Percent of Students Enrolled Who Took SAT SAT Composite Avg. Score  \\\n",
       "0                                        6.9                 600-1220   \n",
       "1                                       23.1                 600-1220   \n",
       "2                                       11.7                 600-1220   \n",
       "3                                        3.1                 600-1220   \n",
       "4                                       12.0                 600-1220   \n",
       "\n",
       "  SAT Critical Reading Avg. Score SAT Math Avg. Score SAT Writing Avg. Score  \\\n",
       "0                         200-400             200-410                200-390   \n",
       "1                         200-400             420-510                200-390   \n",
       "2                         200-400             200-410                200-390   \n",
       "3                         410-490             200-410                200-390   \n",
       "4                         200-400             420-510                200-390   \n",
       "\n",
       "   frl_percent  ell_percent  sped_percent  asian_per  black_per  hispanic_per  \\\n",
       "0         88.6         22.3          24.9       14.0       29.1          53.8   \n",
       "1         71.8         21.1          21.8       29.2       22.6          45.9   \n",
       "2         71.8          5.0          26.4        9.7       23.9          55.4   \n",
       "3         72.8          4.0           8.9        2.2       34.4          59.4   \n",
       "4         80.7         11.2          25.9        9.3       31.6          56.9   \n",
       "\n",
       "   white_per  male_per  female_per  \n",
       "0        1.7      61.4        38.6  \n",
       "1        2.3      57.4        42.6  \n",
       "2       10.4      54.7        45.3  \n",
       "3        3.6      43.3        56.7  \n",
       "4        1.6      46.3        53.7  "
      ]
     },
     "execution_count": 563,
     "metadata": {},
     "output_type": "execute_result"
    }
   ],
   "source": [
    "sat_demos.head()"
   ]
  },
  {
   "cell_type": "markdown",
   "metadata": {},
   "source": [
    "For this analysis, I will be primarily looking at socioeconmic and ethnic figures. Thus, the demographics data not relating to these figures will be dropped."
   ]
  },
  {
   "cell_type": "markdown",
   "metadata": {},
   "source": [
    "#### Now that all the data in this dataframe has been cleaned/streamlined, let's look at how the school demographics average out when grouped by the different SAT score ranges"
   ]
  },
  {
   "cell_type": "markdown",
   "metadata": {},
   "source": [
    "### SAT Composite Scores & Ethnicity"
   ]
  },
  {
   "cell_type": "code",
   "execution_count": 565,
   "metadata": {},
   "outputs": [
    {
     "data": {
      "text/html": [
       "<div>\n",
       "<style scoped>\n",
       "    .dataframe tbody tr th:only-of-type {\n",
       "        vertical-align: middle;\n",
       "    }\n",
       "\n",
       "    .dataframe tbody tr th {\n",
       "        vertical-align: top;\n",
       "    }\n",
       "\n",
       "    .dataframe thead th {\n",
       "        text-align: right;\n",
       "    }\n",
       "</style>\n",
       "<table border=\"1\" class=\"dataframe\">\n",
       "  <thead>\n",
       "    <tr style=\"text-align: right;\">\n",
       "      <th></th>\n",
       "      <th>Percent of Students Enrolled Who Took SAT</th>\n",
       "      <th>frl_percent</th>\n",
       "      <th>asian_per</th>\n",
       "      <th>black_per</th>\n",
       "      <th>hispanic_per</th>\n",
       "      <th>white_per</th>\n",
       "    </tr>\n",
       "    <tr>\n",
       "      <th>SAT Composite Avg. Score</th>\n",
       "      <th></th>\n",
       "      <th></th>\n",
       "      <th></th>\n",
       "      <th></th>\n",
       "      <th></th>\n",
       "      <th></th>\n",
       "    </tr>\n",
       "  </thead>\n",
       "  <tbody>\n",
       "    <tr>\n",
       "      <td>1230-1480</td>\n",
       "      <td>15.561616</td>\n",
       "      <td>58.788889</td>\n",
       "      <td>15.155556</td>\n",
       "      <td>30.388889</td>\n",
       "      <td>39.389899</td>\n",
       "      <td>14.204040</td>\n",
       "    </tr>\n",
       "    <tr>\n",
       "      <td>1490-1660</td>\n",
       "      <td>18.084615</td>\n",
       "      <td>35.076923</td>\n",
       "      <td>26.130769</td>\n",
       "      <td>16.892308</td>\n",
       "      <td>20.930769</td>\n",
       "      <td>33.876923</td>\n",
       "    </tr>\n",
       "    <tr>\n",
       "      <td>1670-1920</td>\n",
       "      <td>22.781818</td>\n",
       "      <td>26.690909</td>\n",
       "      <td>33.645455</td>\n",
       "      <td>12.318182</td>\n",
       "      <td>15.363636</td>\n",
       "      <td>36.854545</td>\n",
       "    </tr>\n",
       "    <tr>\n",
       "      <td>1930-2400</td>\n",
       "      <td>23.366667</td>\n",
       "      <td>27.166667</td>\n",
       "      <td>55.800000</td>\n",
       "      <td>1.933333</td>\n",
       "      <td>4.966667</td>\n",
       "      <td>36.800000</td>\n",
       "    </tr>\n",
       "    <tr>\n",
       "      <td>600-1220</td>\n",
       "      <td>12.617483</td>\n",
       "      <td>71.985664</td>\n",
       "      <td>5.318182</td>\n",
       "      <td>44.601399</td>\n",
       "      <td>46.536713</td>\n",
       "      <td>2.851399</td>\n",
       "    </tr>\n",
       "    <tr>\n",
       "      <td>s</td>\n",
       "      <td>0.000000</td>\n",
       "      <td>70.865789</td>\n",
       "      <td>9.036842</td>\n",
       "      <td>33.213158</td>\n",
       "      <td>50.044737</td>\n",
       "      <td>6.878947</td>\n",
       "    </tr>\n",
       "  </tbody>\n",
       "</table>\n",
       "</div>"
      ],
      "text/plain": [
       "                          Percent of Students Enrolled Who Took SAT  \\\n",
       "SAT Composite Avg. Score                                              \n",
       "1230-1480                                                 15.561616   \n",
       "1490-1660                                                 18.084615   \n",
       "1670-1920                                                 22.781818   \n",
       "1930-2400                                                 23.366667   \n",
       "600-1220                                                  12.617483   \n",
       "s                                                          0.000000   \n",
       "\n",
       "                          frl_percent  asian_per  black_per  hispanic_per  \\\n",
       "SAT Composite Avg. Score                                                    \n",
       "1230-1480                   58.788889  15.155556  30.388889     39.389899   \n",
       "1490-1660                   35.076923  26.130769  16.892308     20.930769   \n",
       "1670-1920                   26.690909  33.645455  12.318182     15.363636   \n",
       "1930-2400                   27.166667  55.800000   1.933333      4.966667   \n",
       "600-1220                    71.985664   5.318182  44.601399     46.536713   \n",
       "s                           70.865789   9.036842  33.213158     50.044737   \n",
       "\n",
       "                          white_per  \n",
       "SAT Composite Avg. Score             \n",
       "1230-1480                 14.204040  \n",
       "1490-1660                 33.876923  \n",
       "1670-1920                 36.854545  \n",
       "1930-2400                 36.800000  \n",
       "600-1220                   2.851399  \n",
       "s                          6.878947  "
      ]
     },
     "execution_count": 565,
     "metadata": {},
     "output_type": "execute_result"
    }
   ],
   "source": [
    "sat_demos.groupby('SAT Composite Avg. Score').mean()"
   ]
  },
  {
   "cell_type": "markdown",
   "metadata": {},
   "source": [
    "The bar plot below demonstrates the average ethnic distributions of schools for each SAT composite score range."
   ]
  },
  {
   "cell_type": "code",
   "execution_count": 566,
   "metadata": {
    "scrolled": false
   },
   "outputs": [
    {
     "data": {
      "image/png": "[encoded data removed]",
      "text/plain": [
       "<Figure size 432x288 with 1 Axes>"
      ]
     },
     "metadata": {
      "needs_background": "light"
     },
     "output_type": "display_data"
    }
   ],
   "source": [
    "composite_eth = sat_demos.drop(columns=['frl_percent', 'Percent of Students Enrolled Who Took SAT']).groupby('SAT Composite Avg. Score').mean().plot.barh(rot = 0, colormap = 'Paired')"
   ]
  },
  {
   "cell_type": "markdown",
   "metadata": {},
   "source": [
    "The bar plot below demonstrates the average percentage of free/reduced price lunch recipients of schools for each SAT composite score range."
   ]
  },
  {
   "cell_type": "code",
   "execution_count": 513,
   "metadata": {},
   "outputs": [
    {
     "data": {
      "image/png": "[encoded data removed]",
      "text/plain": [
       "<Figure size 432x288 with 1 Axes>"
      ]
     },
     "metadata": {
      "needs_background": "light"
     },
     "output_type": "display_data"
    }
   ],
   "source": [
    "composite_frl = sat_demos.drop(columns=['asian_per', 'black_per', 'hispanic_per', 'white_per']).groupby('SAT Composite Avg. Score').mean().plot.barh(rot=0, colormap='Paired')"
   ]
  },
  {
   "cell_type": "markdown",
   "metadata": {},
   "source": [
    "The bar plot below demonstrates the average percentage of students who took the SAT test at a given school for each SAT composite score range"
   ]
  },
  {
   "cell_type": "code",
   "execution_count": 571,
   "metadata": {},
   "outputs": [
    {
     "data": {
      "image/png": "[encoded data removed]",
      "text/plain": [
       "<Figure size 432x288 with 1 Axes>"
      ]
     },
     "metadata": {
      "needs_background": "light"
     },
     "output_type": "display_data"
    }
   ],
   "source": [
    "composite_takers = sat_demos.drop(columns=['frl_percent','asian_per', 'black_per', 'hispanic_per', 'white_per']).groupby('SAT Composite Avg. Score').mean().plot.barh(rot=0, colormap='Pastel1')"
   ]
  },
  {
   "cell_type": "markdown",
   "metadata": {},
   "source": [
    "### SAT Critical Reading Scores & Ethnicity"
   ]
  },
  {
   "cell_type": "code",
   "execution_count": 572,
   "metadata": {},
   "outputs": [
    {
     "data": {
      "text/html": [
       "<div>\n",
       "<style scoped>\n",
       "    .dataframe tbody tr th:only-of-type {\n",
       "        vertical-align: middle;\n",
       "    }\n",
       "\n",
       "    .dataframe tbody tr th {\n",
       "        vertical-align: top;\n",
       "    }\n",
       "\n",
       "    .dataframe thead th {\n",
       "        text-align: right;\n",
       "    }\n",
       "</style>\n",
       "<table border=\"1\" class=\"dataframe\">\n",
       "  <thead>\n",
       "    <tr style=\"text-align: right;\">\n",
       "      <th></th>\n",
       "      <th>Percent of Students Enrolled Who Took SAT</th>\n",
       "      <th>frl_percent</th>\n",
       "      <th>asian_per</th>\n",
       "      <th>black_per</th>\n",
       "      <th>hispanic_per</th>\n",
       "      <th>white_per</th>\n",
       "    </tr>\n",
       "    <tr>\n",
       "      <th>SAT Critical Reading Avg. Score</th>\n",
       "      <th></th>\n",
       "      <th></th>\n",
       "      <th></th>\n",
       "      <th></th>\n",
       "      <th></th>\n",
       "      <th></th>\n",
       "    </tr>\n",
       "  </thead>\n",
       "  <tbody>\n",
       "    <tr>\n",
       "      <td>200-400</td>\n",
       "      <td>12.803793</td>\n",
       "      <td>71.958621</td>\n",
       "      <td>5.813448</td>\n",
       "      <td>43.325862</td>\n",
       "      <td>46.954138</td>\n",
       "      <td>3.218276</td>\n",
       "    </tr>\n",
       "    <tr>\n",
       "      <td>410-490</td>\n",
       "      <td>15.217347</td>\n",
       "      <td>57.834694</td>\n",
       "      <td>14.936735</td>\n",
       "      <td>33.095918</td>\n",
       "      <td>37.158163</td>\n",
       "      <td>13.934694</td>\n",
       "    </tr>\n",
       "    <tr>\n",
       "      <td>500-550</td>\n",
       "      <td>18.145455</td>\n",
       "      <td>31.800000</td>\n",
       "      <td>21.890909</td>\n",
       "      <td>16.790909</td>\n",
       "      <td>21.545455</td>\n",
       "      <td>37.190909</td>\n",
       "    </tr>\n",
       "    <tr>\n",
       "      <td>560-640</td>\n",
       "      <td>22.983333</td>\n",
       "      <td>26.933333</td>\n",
       "      <td>36.333333</td>\n",
       "      <td>10.966667</td>\n",
       "      <td>13.958333</td>\n",
       "      <td>37.183333</td>\n",
       "    </tr>\n",
       "    <tr>\n",
       "      <td>650-800</td>\n",
       "      <td>25.200000</td>\n",
       "      <td>30.300000</td>\n",
       "      <td>72.100000</td>\n",
       "      <td>1.200000</td>\n",
       "      <td>2.400000</td>\n",
       "      <td>23.700000</td>\n",
       "    </tr>\n",
       "    <tr>\n",
       "      <td>s</td>\n",
       "      <td>0.000000</td>\n",
       "      <td>70.865789</td>\n",
       "      <td>9.036842</td>\n",
       "      <td>33.213158</td>\n",
       "      <td>50.044737</td>\n",
       "      <td>6.878947</td>\n",
       "    </tr>\n",
       "  </tbody>\n",
       "</table>\n",
       "</div>"
      ],
      "text/plain": [
       "                                 Percent of Students Enrolled Who Took SAT  \\\n",
       "SAT Critical Reading Avg. Score                                              \n",
       "200-400                                                          12.803793   \n",
       "410-490                                                          15.217347   \n",
       "500-550                                                          18.145455   \n",
       "560-640                                                          22.983333   \n",
       "650-800                                                          25.200000   \n",
       "s                                                                 0.000000   \n",
       "\n",
       "                                 frl_percent  asian_per  black_per  \\\n",
       "SAT Critical Reading Avg. Score                                      \n",
       "200-400                            71.958621   5.813448  43.325862   \n",
       "410-490                            57.834694  14.936735  33.095918   \n",
       "500-550                            31.800000  21.890909  16.790909   \n",
       "560-640                            26.933333  36.333333  10.966667   \n",
       "650-800                            30.300000  72.100000   1.200000   \n",
       "s                                  70.865789   9.036842  33.213158   \n",
       "\n",
       "                                 hispanic_per  white_per  \n",
       "SAT Critical Reading Avg. Score                           \n",
       "200-400                             46.954138   3.218276  \n",
       "410-490                             37.158163  13.934694  \n",
       "500-550                             21.545455  37.190909  \n",
       "560-640                             13.958333  37.183333  \n",
       "650-800                              2.400000  23.700000  \n",
       "s                                   50.044737   6.878947  "
      ]
     },
     "execution_count": 572,
     "metadata": {},
     "output_type": "execute_result"
    }
   ],
   "source": [
    "sat_demos.groupby('SAT Critical Reading Avg. Score').mean()"
   ]
  },
  {
   "cell_type": "code",
   "execution_count": 574,
   "metadata": {},
   "outputs": [
    {
     "data": {
      "image/png": "[encoded data removed]",
      "text/plain": [
       "<Figure size 432x288 with 1 Axes>"
      ]
     },
     "metadata": {
      "needs_background": "light"
     },
     "output_type": "display_data"
    }
   ],
   "source": [
    "reading_eth = sat_demos.drop(columns=['frl_percent', 'Percent of Students Enrolled Who Took SAT']).groupby('SAT Critical Reading Avg. Score').mean().plot.barh(rot=0, colormap = 'Paired')"
   ]
  },
  {
   "cell_type": "code",
   "execution_count": 575,
   "metadata": {},
   "outputs": [
    {
     "data": {
      "image/png": "[encoded data removed]",
      "text/plain": [
       "<Figure size 432x288 with 1 Axes>"
      ]
     },
     "metadata": {
      "needs_background": "light"
     },
     "output_type": "display_data"
    }
   ],
   "source": [
    "reading_frl = sat_demos.drop(columns=['asian_per', 'black_per', 'hispanic_per', 'white_per', 'Percent of Students Enrolled Who Took SAT']).groupby('SAT Critical Reading Avg. Score').mean().plot.barh(rot=0, colormap = 'Paired')"
   ]
  },
  {
   "cell_type": "code",
   "execution_count": 576,
   "metadata": {},
   "outputs": [
    {
     "data": {
      "image/png": "[encoded data removed]",
      "text/plain": [
       "<Figure size 432x288 with 1 Axes>"
      ]
     },
     "metadata": {
      "needs_background": "light"
     },
     "output_type": "display_data"
    }
   ],
   "source": [
    "reading_takers = sat_demos.drop(columns=['frl_percent','asian_per', 'black_per', 'hispanic_per', 'white_per']).groupby('SAT Critical Reading Avg. Score').mean().plot.barh(rot=0, colormap='Pastel1')"
   ]
  },
  {
   "cell_type": "markdown",
   "metadata": {},
   "source": [
    "### SAT Math Scores & Ethnicity"
   ]
  },
  {
   "cell_type": "code",
   "execution_count": 577,
   "metadata": {},
   "outputs": [
    {
     "data": {
      "text/html": [
       "<div>\n",
       "<style scoped>\n",
       "    .dataframe tbody tr th:only-of-type {\n",
       "        vertical-align: middle;\n",
       "    }\n",
       "\n",
       "    .dataframe tbody tr th {\n",
       "        vertical-align: top;\n",
       "    }\n",
       "\n",
       "    .dataframe thead th {\n",
       "        text-align: right;\n",
       "    }\n",
       "</style>\n",
       "<table border=\"1\" class=\"dataframe\">\n",
       "  <thead>\n",
       "    <tr style=\"text-align: right;\">\n",
       "      <th></th>\n",
       "      <th>Percent of Students Enrolled Who Took SAT</th>\n",
       "      <th>frl_percent</th>\n",
       "      <th>asian_per</th>\n",
       "      <th>black_per</th>\n",
       "      <th>hispanic_per</th>\n",
       "      <th>white_per</th>\n",
       "    </tr>\n",
       "    <tr>\n",
       "      <th>SAT Math Avg. Score</th>\n",
       "      <th></th>\n",
       "      <th></th>\n",
       "      <th></th>\n",
       "      <th></th>\n",
       "      <th></th>\n",
       "      <th></th>\n",
       "    </tr>\n",
       "  </thead>\n",
       "  <tbody>\n",
       "    <tr>\n",
       "      <td>200-410</td>\n",
       "      <td>12.462545</td>\n",
       "      <td>71.895273</td>\n",
       "      <td>4.010545</td>\n",
       "      <td>46.190909</td>\n",
       "      <td>46.430182</td>\n",
       "      <td>2.654545</td>\n",
       "    </tr>\n",
       "    <tr>\n",
       "      <td>420-510</td>\n",
       "      <td>15.567890</td>\n",
       "      <td>59.252294</td>\n",
       "      <td>15.302752</td>\n",
       "      <td>28.460550</td>\n",
       "      <td>41.014679</td>\n",
       "      <td>14.329358</td>\n",
       "    </tr>\n",
       "    <tr>\n",
       "      <td>520-570</td>\n",
       "      <td>18.733333</td>\n",
       "      <td>39.453333</td>\n",
       "      <td>35.280000</td>\n",
       "      <td>13.566667</td>\n",
       "      <td>18.513333</td>\n",
       "      <td>31.126667</td>\n",
       "    </tr>\n",
       "    <tr>\n",
       "      <td>580-670</td>\n",
       "      <td>22.980000</td>\n",
       "      <td>33.610000</td>\n",
       "      <td>43.110000</td>\n",
       "      <td>11.140000</td>\n",
       "      <td>13.360000</td>\n",
       "      <td>30.870000</td>\n",
       "    </tr>\n",
       "    <tr>\n",
       "      <td>680-800</td>\n",
       "      <td>23.366667</td>\n",
       "      <td>27.166667</td>\n",
       "      <td>55.800000</td>\n",
       "      <td>1.933333</td>\n",
       "      <td>4.966667</td>\n",
       "      <td>36.800000</td>\n",
       "    </tr>\n",
       "    <tr>\n",
       "      <td>s</td>\n",
       "      <td>0.000000</td>\n",
       "      <td>70.865789</td>\n",
       "      <td>9.036842</td>\n",
       "      <td>33.213158</td>\n",
       "      <td>50.044737</td>\n",
       "      <td>6.878947</td>\n",
       "    </tr>\n",
       "  </tbody>\n",
       "</table>\n",
       "</div>"
      ],
      "text/plain": [
       "                     Percent of Students Enrolled Who Took SAT  frl_percent  \\\n",
       "SAT Math Avg. Score                                                           \n",
       "200-410                                              12.462545    71.895273   \n",
       "420-510                                              15.567890    59.252294   \n",
       "520-570                                              18.733333    39.453333   \n",
       "580-670                                              22.980000    33.610000   \n",
       "680-800                                              23.366667    27.166667   \n",
       "s                                                     0.000000    70.865789   \n",
       "\n",
       "                     asian_per  black_per  hispanic_per  white_per  \n",
       "SAT Math Avg. Score                                                 \n",
       "200-410               4.010545  46.190909     46.430182   2.654545  \n",
       "420-510              15.302752  28.460550     41.014679  14.329358  \n",
       "520-570              35.280000  13.566667     18.513333  31.126667  \n",
       "580-670              43.110000  11.140000     13.360000  30.870000  \n",
       "680-800              55.800000   1.933333      4.966667  36.800000  \n",
       "s                     9.036842  33.213158     50.044737   6.878947  "
      ]
     },
     "execution_count": 577,
     "metadata": {},
     "output_type": "execute_result"
    }
   ],
   "source": [
    "sat_demos.groupby('SAT Math Avg. Score').mean()"
   ]
  },
  {
   "cell_type": "code",
   "execution_count": 578,
   "metadata": {},
   "outputs": [
    {
     "data": {
      "image/png": "[encoded data removed]",
      "text/plain": [
       "<Figure size 432x288 with 1 Axes>"
      ]
     },
     "metadata": {
      "needs_background": "light"
     },
     "output_type": "display_data"
    }
   ],
   "source": [
    "math_eth = sat_demos.drop(columns=['frl_percent', 'Percent of Students Enrolled Who Took SAT']).groupby('SAT Math Avg. Score').mean().plot.barh(rot=0, colormap = 'Paired')"
   ]
  },
  {
   "cell_type": "code",
   "execution_count": 579,
   "metadata": {},
   "outputs": [
    {
     "data": {
      "image/png": "[encoded data removed]",
      "text/plain": [
       "<Figure size 432x288 with 1 Axes>"
      ]
     },
     "metadata": {
      "needs_background": "light"
     },
     "output_type": "display_data"
    }
   ],
   "source": [
    "math_frl = sat_demos.drop(columns=['asian_per', 'black_per', 'hispanic_per', 'white_per', 'Percent of Students Enrolled Who Took SAT']).groupby('SAT Math Avg. Score').mean().plot.barh(rot=0, colormap = 'Paired')"
   ]
  },
  {
   "cell_type": "code",
   "execution_count": 580,
   "metadata": {},
   "outputs": [
    {
     "data": {
      "image/png": "[encoded data removed]",
      "text/plain": [
       "<Figure size 432x288 with 1 Axes>"
      ]
     },
     "metadata": {
      "needs_background": "light"
     },
     "output_type": "display_data"
    }
   ],
   "source": [
    "math_takers = sat_demos.drop(columns=['frl_percent','asian_per', 'black_per', 'hispanic_per', 'white_per']).groupby('SAT Math Avg. Score').mean().plot.barh(rot=0, colormap='Pastel1')"
   ]
  },
  {
   "cell_type": "markdown",
   "metadata": {},
   "source": [
    "### SAT Writing Scores & Ethnicity"
   ]
  },
  {
   "cell_type": "code",
   "execution_count": 581,
   "metadata": {},
   "outputs": [
    {
     "data": {
      "text/html": [
       "<div>\n",
       "<style scoped>\n",
       "    .dataframe tbody tr th:only-of-type {\n",
       "        vertical-align: middle;\n",
       "    }\n",
       "\n",
       "    .dataframe tbody tr th {\n",
       "        vertical-align: top;\n",
       "    }\n",
       "\n",
       "    .dataframe thead th {\n",
       "        text-align: right;\n",
       "    }\n",
       "</style>\n",
       "<table border=\"1\" class=\"dataframe\">\n",
       "  <thead>\n",
       "    <tr style=\"text-align: right;\">\n",
       "      <th></th>\n",
       "      <th>Percent of Students Enrolled Who Took SAT</th>\n",
       "      <th>frl_percent</th>\n",
       "      <th>asian_per</th>\n",
       "      <th>black_per</th>\n",
       "      <th>hispanic_per</th>\n",
       "      <th>white_per</th>\n",
       "    </tr>\n",
       "    <tr>\n",
       "      <th>SAT Writing Avg. Score</th>\n",
       "      <th></th>\n",
       "      <th></th>\n",
       "      <th></th>\n",
       "      <th></th>\n",
       "      <th></th>\n",
       "      <th></th>\n",
       "    </tr>\n",
       "  </thead>\n",
       "  <tbody>\n",
       "    <tr>\n",
       "      <td>200-390</td>\n",
       "      <td>12.734276</td>\n",
       "      <td>71.807067</td>\n",
       "      <td>6.128622</td>\n",
       "      <td>44.093993</td>\n",
       "      <td>45.910954</td>\n",
       "      <td>3.182686</td>\n",
       "    </tr>\n",
       "    <tr>\n",
       "      <td>400-480</td>\n",
       "      <td>15.185294</td>\n",
       "      <td>59.524510</td>\n",
       "      <td>12.780392</td>\n",
       "      <td>32.328431</td>\n",
       "      <td>41.178431</td>\n",
       "      <td>12.827451</td>\n",
       "    </tr>\n",
       "    <tr>\n",
       "      <td>490-550</td>\n",
       "      <td>17.250000</td>\n",
       "      <td>35.991667</td>\n",
       "      <td>24.258333</td>\n",
       "      <td>15.983333</td>\n",
       "      <td>22.250000</td>\n",
       "      <td>35.225000</td>\n",
       "    </tr>\n",
       "    <tr>\n",
       "      <td>550-640</td>\n",
       "      <td>22.864286</td>\n",
       "      <td>27.428571</td>\n",
       "      <td>35.528571</td>\n",
       "      <td>11.164286</td>\n",
       "      <td>14.478571</td>\n",
       "      <td>37.314286</td>\n",
       "    </tr>\n",
       "    <tr>\n",
       "      <td>650-800</td>\n",
       "      <td>25.200000</td>\n",
       "      <td>30.300000</td>\n",
       "      <td>72.100000</td>\n",
       "      <td>1.200000</td>\n",
       "      <td>2.400000</td>\n",
       "      <td>23.700000</td>\n",
       "    </tr>\n",
       "    <tr>\n",
       "      <td>s</td>\n",
       "      <td>0.000000</td>\n",
       "      <td>70.865789</td>\n",
       "      <td>9.036842</td>\n",
       "      <td>33.213158</td>\n",
       "      <td>50.044737</td>\n",
       "      <td>6.878947</td>\n",
       "    </tr>\n",
       "  </tbody>\n",
       "</table>\n",
       "</div>"
      ],
      "text/plain": [
       "                        Percent of Students Enrolled Who Took SAT  \\\n",
       "SAT Writing Avg. Score                                              \n",
       "200-390                                                 12.734276   \n",
       "400-480                                                 15.185294   \n",
       "490-550                                                 17.250000   \n",
       "550-640                                                 22.864286   \n",
       "650-800                                                 25.200000   \n",
       "s                                                        0.000000   \n",
       "\n",
       "                        frl_percent  asian_per  black_per  hispanic_per  \\\n",
       "SAT Writing Avg. Score                                                    \n",
       "200-390                   71.807067   6.128622  44.093993     45.910954   \n",
       "400-480                   59.524510  12.780392  32.328431     41.178431   \n",
       "490-550                   35.991667  24.258333  15.983333     22.250000   \n",
       "550-640                   27.428571  35.528571  11.164286     14.478571   \n",
       "650-800                   30.300000  72.100000   1.200000      2.400000   \n",
       "s                         70.865789   9.036842  33.213158     50.044737   \n",
       "\n",
       "                        white_per  \n",
       "SAT Writing Avg. Score             \n",
       "200-390                  3.182686  \n",
       "400-480                 12.827451  \n",
       "490-550                 35.225000  \n",
       "550-640                 37.314286  \n",
       "650-800                 23.700000  \n",
       "s                        6.878947  "
      ]
     },
     "execution_count": 581,
     "metadata": {},
     "output_type": "execute_result"
    }
   ],
   "source": [
    "sat_demos.groupby('SAT Writing Avg. Score').mean()"
   ]
  },
  {
   "cell_type": "code",
   "execution_count": 582,
   "metadata": {},
   "outputs": [
    {
     "data": {
      "image/png": "[encoded data removed]",
      "text/plain": [
       "<Figure size 432x288 with 1 Axes>"
      ]
     },
     "metadata": {
      "needs_background": "light"
     },
     "output_type": "display_data"
    }
   ],
   "source": [
    "writing_eth = sat_demos.drop(columns=['frl_percent', 'Percent of Students Enrolled Who Took SAT']).groupby('SAT Writing Avg. Score').mean().plot.barh(rot=0, colormap = 'Paired')"
   ]
  },
  {
   "cell_type": "code",
   "execution_count": 583,
   "metadata": {},
   "outputs": [
    {
     "data": {
      "image/png": "[encoded data removed]",
      "text/plain": [
       "<Figure size 432x288 with 1 Axes>"
      ]
     },
     "metadata": {
      "needs_background": "light"
     },
     "output_type": "display_data"
    }
   ],
   "source": [
    "writing_frl = sat_demos.drop(columns=['asian_per', 'black_per', 'hispanic_per', 'white_per', 'Percent of Students Enrolled Who Took SAT']).groupby('SAT Writing Avg. Score').mean().plot.barh(rot=0, colormap = 'Paired')"
   ]
  },
  {
   "cell_type": "code",
   "execution_count": 584,
   "metadata": {},
   "outputs": [
    {
     "data": {
      "image/png": "[encoded data removed]",
      "text/plain": [
       "<Figure size 432x288 with 1 Axes>"
      ]
     },
     "metadata": {
      "needs_background": "light"
     },
     "output_type": "display_data"
    }
   ],
   "source": [
    "writing_takers = sat_demos.drop(columns=['frl_percent','asian_per', 'black_per', 'hispanic_per', 'white_per']).groupby('SAT Writing Avg. Score').mean().plot.barh(rot=0, colormap='Pastel1')"
   ]
  },
  {
   "cell_type": "code",
   "execution_count": 900,
   "metadata": {},
   "outputs": [],
   "source": [
    "#add the raw scores back to the dataframe\n",
    "sat_raws_demos = pd.merge(pd.read_csv('sat_ny.csv'), demos, on = 'DBN', how = 'inner')\n",
    "composites_raw = []\n",
    "for i, row in sat_raws_demos.iterrows():\n",
    "    n = row['Num of SAT Test Takers']\n",
    "    if n == 's':\n",
    "        composites_raw.append(0)\n",
    "        continue\n",
    "    r = int(row['SAT Critical Reading Avg. Score'])\n",
    "    m = int(row['SAT Math Avg. Score'])\n",
    "    w = int(row['SAT Writing Avg. Score'])\n",
    "    c = r+m+w\n",
    "    composites_raw.append(c)\n",
    "sat_raws_demos['SAT Composite Avg. Score'] = composites_raw\n",
    "sat_raws_demos = sat_raws_demos.loc[sat_raws_demos['SAT Composite Avg. Score'] > 0]"
   ]
  },
  {
   "cell_type": "markdown",
   "metadata": {},
   "source": [
    "To get an idea of what the distribution of SAT score should look like for all schools, despite demographics, I used the 2012 nationwide mean and standard deviation for rising seniors' SAT composite scores (https://secure-media.collegeboard.org/digitalServices/pdf/research/SAT-Percentile-Ranks-Composite-CR-M-W-2012.pdf).\n",
    "This histogram below is a rough \"normal\" distribution of this. I will use this histogram to see if there are significant differences between the distributions of predominantly Asian/White schools and predominantly Black/Hispanic schools."
   ]
  },
  {
   "cell_type": "code",
   "execution_count": 1119,
   "metadata": {},
   "outputs": [
    {
     "data": {
      "image/png": "[encoded data removed]",
      "text/plain": [
       "<Figure size 432x288 with 1 Axes>"
      ]
     },
     "metadata": {
      "needs_background": "light"
     },
     "output_type": "display_data"
    }
   ],
   "source": [
    "sd = 316\n",
    "mean = 1498\n",
    "normal_composite = np.random.normal(mean, sd, 1000000)\n",
    "counts, bins, ignored = plt.hist(normal_composite, 5, (600, 2400), density=True, color='blueviolet')\n",
    "x = 1/(sd * np.sqrt(2 * np.pi)) * np.exp( - (bins - mean)**2 / (2 * sd**2)) \n",
    "plt.plot(bins, x, color='black', linewidth = 2)\n",
    "plt.xlabel('SAT Composite Avg. Score', size=14)\n",
    "plt.title(\"The Expected/Normalized Nationwide SAT Score Distribution\")\n",
    "plt.show()           "
   ]
  },
  {
   "cell_type": "code",
   "execution_count": 1103,
   "metadata": {},
   "outputs": [
    {
     "data": {
      "text/plain": [
       "353"
      ]
     },
     "execution_count": 1103,
     "metadata": {},
     "output_type": "execute_result"
    }
   ],
   "source": [
    "sat_raws_black_hispanic = list(sat_raws_demos.loc[sat_raws_demos['black_per'] + sat_raws_demos['hispanic_per'] >= 50]['SAT Composite Avg. Score'])\n",
    "len(sat_raws_black_hispanic)"
   ]
  },
  {
   "cell_type": "code",
   "execution_count": 1125,
   "metadata": {},
   "outputs": [
    {
     "data": {
      "image/png": "[encoded data removed]",
      "text/plain": [
       "<Figure size 432x288 with 1 Axes>"
      ]
     },
     "metadata": {
      "needs_background": "light"
     },
     "output_type": "display_data"
    }
   ],
   "source": [
    "plt.hist(sat_raws_black_hispanic, 5, (600, 2400), color='royalblue')\n",
    "plt.xlabel('SAT Composite Avg. Score', size=14)\n",
    "plt.ylabel(\"School Count\", size=14)\n",
    "plt.title(\"SAT Score Distribution for Schools with Predominantly Black/Hispanic Students\")\n",
    "plt.show()"
   ]
  },
  {
   "cell_type": "code",
   "execution_count": 1122,
   "metadata": {},
   "outputs": [
    {
     "data": {
      "image/png": "[encoded data removed]",
      "text/plain": [
       "<Figure size 432x288 with 1 Axes>"
      ]
     },
     "metadata": {
      "needs_background": "light"
     },
     "output_type": "display_data"
    }
   ],
   "source": [
    "plt.hist(sat_raws_black_hispanic, 5, (600, 2400), alpha = 0.5, color='royalblue')\n",
    "plt.hist(np.random.normal(mean, sd, len(sat_raws_black_hispanic)), 5, (600, 2400), alpha = 0.5, color='gray')\n",
    "plt.xlabel('SAT Composite Avg. Score', size=14)\n",
    "plt.title(\"SAT Score Distribution for Schools with Predominantly Black/Hispanic Students vs. The Nationwide Distribution\")\n",
    "plt.show()"
   ]
  },
  {
   "cell_type": "code",
   "execution_count": 940,
   "metadata": {},
   "outputs": [],
   "source": [
    "sat_raws_white_asian = list(sat_raws_demos.loc[sat_raws_demos['white_per'] + sat_raws_demos['asian_per'] >= 50]['SAT Composite Avg. Score'])"
   ]
  },
  {
   "cell_type": "code",
   "execution_count": 1124,
   "metadata": {},
   "outputs": [
    {
     "data": {
      "image/png": "[encoded data removed]",
      "text/plain": [
       "<Figure size 432x288 with 1 Axes>"
      ]
     },
     "metadata": {
      "needs_background": "light"
     },
     "output_type": "display_data"
    }
   ],
   "source": [
    "plt.hist(sat_raws_white_asian, 5, (600, 2400), color='tomato')\n",
    "plt.xlabel('SAT Composite Avg. Score', size=14)\n",
    "plt.ylabel(\"School Count\", size=14)\n",
    "plt.title(\"SAT Score Distribution for Schools with Predominantly White/Asian\")\n",
    "plt.show()"
   ]
  },
  {
   "cell_type": "code",
   "execution_count": 1126,
   "metadata": {},
   "outputs": [
    {
     "data": {
      "image/png": "[encoded data removed]",
      "text/plain": [
       "<Figure size 432x288 with 1 Axes>"
      ]
     },
     "metadata": {
      "needs_background": "light"
     },
     "output_type": "display_data"
    }
   ],
   "source": [
    "plt.hist(sat_raws_white_asian, 5, (600, 2400), alpha = 0.5, color='royalblue')\n",
    "plt.hist(np.random.normal(mean, sd, len(sat_raws_white_asian)), 5, (600, 2400), alpha = 0.5, color='gray')\n",
    "plt.xlabel('SAT Composite Avg. Score', size=14)\n",
    "plt.title(\"SAT Score Distribution for Schools with Predominantly White/Asian Students vs. The Nationwide Distribution\")\n",
    "plt.show()"
   ]
  },
  {
   "cell_type": "code",
   "execution_count": 1127,
   "metadata": {},
   "outputs": [
    {
     "data": {
      "image/png": "[encoded data removed]",
      "text/plain": [
       "<Figure size 432x288 with 1 Axes>"
      ]
     },
     "metadata": {
      "needs_background": "light"
     },
     "output_type": "display_data"
    }
   ],
   "source": [
    "plt.hist(sat_raws_white_asian, 5, (600, 2400), alpha = 0.5, color='red')\n",
    "plt.hist(sat_raws_black_hispanic, 5, (600, 2400), alpha = 0.5, color='royalblue')\n",
    "plt.xlabel('SAT Composite Avg. Score', size=14)\n",
    "plt.ylabel(\"School Count\", size=14)\n",
    "plt.title(\"SAT Score Distribution for Schools with Predominantly Black/Hispanic Students vs. Schools with Predominantly White/Asian Students\")\n",
    "plt.show()"
   ]
  },
  {
   "cell_type": "markdown",
   "metadata": {},
   "source": [
    "The below scatterplots show any association between a school's average SAT composite score and the percent of a given ethnic group and the corresponding correlation value. "
   ]
  },
  {
   "cell_type": "code",
   "execution_count": 906,
   "metadata": {},
   "outputs": [
    {
     "data": {
      "text/plain": [
       "<matplotlib.axes._subplots.AxesSubplot at 0x1a32ba78d0>"
      ]
     },
     "execution_count": 906,
     "metadata": {},
     "output_type": "execute_result"
    },
    {
     "data": {
      "image/png": "[encoded data removed]",
      "text/plain": [
       "<Figure size 432x288 with 1 Axes>"
      ]
     },
     "metadata": {
      "needs_background": "light"
     },
     "output_type": "display_data"
    }
   ],
   "source": [
    "sat_raws_black = sat_raws_demos.loc[:, sat_raws_demos.columns.intersection(['black_per', 'SAT Composite Avg. Score'])]\n",
    "sat_raws_black.plot.scatter(x='black_per', y='SAT Composite Avg. Score', c='cornflowerblue')"
   ]
  },
  {
   "cell_type": "code",
   "execution_count": 902,
   "metadata": {},
   "outputs": [
    {
     "data": {
      "text/plain": [
       "-0.3103191741348346"
      ]
     },
     "execution_count": 902,
     "metadata": {},
     "output_type": "execute_result"
    }
   ],
   "source": [
    "sat_raws_black_corr = sat_raws_black['black_per'].corr(sat_raws_black['SAT Composite Avg. Score'])\n",
    "sat_raws_black_corr"
   ]
  },
  {
   "cell_type": "code",
   "execution_count": 907,
   "metadata": {},
   "outputs": [
    {
     "data": {
      "text/plain": [
       "<matplotlib.axes._subplots.AxesSubplot at 0x1a21b88b90>"
      ]
     },
     "execution_count": 907,
     "metadata": {},
     "output_type": "execute_result"
    },
    {
     "data": {
      "image/png": "[encoded data removed]",
      "text/plain": [
       "<Figure size 432x288 with 1 Axes>"
      ]
     },
     "metadata": {
      "needs_background": "light"
     },
     "output_type": "display_data"
    }
   ],
   "source": [
    "sat_raws_hisp = sat_raws_demos.loc[:, sat_raws_demos.columns.intersection(['hispanic_per', 'SAT Composite Avg. Score'])]\n",
    "sat_raws_hisp.plot.scatter(x='hispanic_per', y='SAT Composite Avg. Score', c='royalblue')"
   ]
  },
  {
   "cell_type": "code",
   "execution_count": 908,
   "metadata": {},
   "outputs": [
    {
     "data": {
      "text/plain": [
       "-0.36311809045341775"
      ]
     },
     "execution_count": 908,
     "metadata": {},
     "output_type": "execute_result"
    }
   ],
   "source": [
    "sat_raws_hisp_corr = sat_raws_hisp['hispanic_per'].corr(sat_raws_hisp['SAT Composite Avg. Score'])\n",
    "sat_raws_hisp_corr"
   ]
  },
  {
   "cell_type": "code",
   "execution_count": 909,
   "metadata": {},
   "outputs": [
    {
     "data": {
      "text/plain": [
       "<matplotlib.axes._subplots.AxesSubplot at 0x1a328a8e10>"
      ]
     },
     "execution_count": 909,
     "metadata": {},
     "output_type": "execute_result"
    },
    {
     "data": {
      "image/png": "[encoded data removed]",
      "text/plain": [
       "<Figure size 432x288 with 1 Axes>"
      ]
     },
     "metadata": {
      "needs_background": "light"
     },
     "output_type": "display_data"
    }
   ],
   "source": [
    "sat_raws_asian = sat_raws_demos.loc[:, sat_raws_demos.columns.intersection(['asian_per', 'SAT Composite Avg. Score'])]\n",
    "sat_raws_asian.plot.scatter(x='asian_per', y='SAT Composite Avg. Score', c='blue')"
   ]
  },
  {
   "cell_type": "code",
   "execution_count": 910,
   "metadata": {},
   "outputs": [
    {
     "data": {
      "text/plain": [
       "0.5453736367894154"
      ]
     },
     "execution_count": 910,
     "metadata": {},
     "output_type": "execute_result"
    }
   ],
   "source": [
    "sat_raws_asian_corr = sat_raws_asian['asian_per'].corr(sat_raws_asian['SAT Composite Avg. Score'])\n",
    "sat_raws_asian_corr"
   ]
  },
  {
   "cell_type": "code",
   "execution_count": 911,
   "metadata": {},
   "outputs": [
    {
     "data": {
      "text/plain": [
       "<matplotlib.axes._subplots.AxesSubplot at 0x1a342ef850>"
      ]
     },
     "execution_count": 911,
     "metadata": {},
     "output_type": "execute_result"
    },
    {
     "data": {
      "image/png": "[encoded data removed]",
      "text/plain": [
       "<Figure size 432x288 with 1 Axes>"
      ]
     },
     "metadata": {
      "needs_background": "light"
     },
     "output_type": "display_data"
    }
   ],
   "source": [
    "sat_raws_white = sat_raws_demos.loc[:, sat_raws_demos.columns.intersection(['white_per', 'SAT Composite Avg. Score'])]\n",
    "sat_raws_white.plot.scatter(x='white_per', y='SAT Composite Avg. Score', c='navy')"
   ]
  },
  {
   "cell_type": "code",
   "execution_count": 912,
   "metadata": {},
   "outputs": [
    {
     "data": {
      "text/plain": [
       "0.6519271937535859"
      ]
     },
     "execution_count": 912,
     "metadata": {},
     "output_type": "execute_result"
    }
   ],
   "source": [
    "sat_raws_white_corr = sat_raws_white['white_per'].corr(sat_raws_white['SAT Composite Avg. Score'])\n",
    "sat_raws_white_corr"
   ]
  },
  {
   "cell_type": "markdown",
   "metadata": {},
   "source": [
    "While the associations between an ethnic group's percent of population and average SAT Composite score for a given New York school seem to be fairly week, the below scatter plot demonstrates that schools with more students in a lower socioeconomic class (as measured by percent of students who receive free/reduce price lunches) are associated with scoring lower on average on the SAT."
   ]
  },
  {
   "cell_type": "markdown",
   "metadata": {},
   "source": [
    "### SAT Scores vs. Schools' Socioeconomic Status"
   ]
  },
  {
   "cell_type": "code",
   "execution_count": 915,
   "metadata": {},
   "outputs": [
    {
     "data": {
      "text/plain": [
       "<matplotlib.axes._subplots.AxesSubplot at 0x1a3477a4d0>"
      ]
     },
     "execution_count": 915,
     "metadata": {},
     "output_type": "execute_result"
    },
    {
     "data": {
      "image/png": "[encoded data removed]",
      "text/plain": [
       "<Figure size 432x288 with 1 Axes>"
      ]
     },
     "metadata": {
      "needs_background": "light"
     },
     "output_type": "display_data"
    }
   ],
   "source": [
    "sat_raws_frl = sat_raws_demos.loc[:, sat_raws_demos.columns.intersection(['frl_percent', 'SAT Composite Avg. Score'])]\n",
    "sat_raws_frl.plot.scatter(x='frl_percent', y='SAT Composite Avg. Score', c='green')"
   ]
  },
  {
   "cell_type": "code",
   "execution_count": 916,
   "metadata": {},
   "outputs": [
    {
     "data": {
      "text/plain": [
       "-0.72110326583535"
      ]
     },
     "execution_count": 916,
     "metadata": {},
     "output_type": "execute_result"
    }
   ],
   "source": [
    "sat_raws_frl_corr = sat_raws_frl['frl_percent'].corr(sat_raws_frl['SAT Composite Avg. Score'])\n",
    "sat_raws_frl_corr"
   ]
  },
  {
   "cell_type": "code",
   "execution_count": 1086,
   "metadata": {},
   "outputs": [],
   "source": [
    "frl_median = np.median(np.array(list(sat_raws_frl['frl_percent'])))\n",
    "sat_raws_frls = np.array(list(sat_raws_frl['SAT Composite Avg. Score']))\n",
    "sat_raws_frl_lower = np.array(list(sat_raws_frl.loc[sat_raws_frl['frl_percent'] < frl_median]['SAT Composite Avg. Score']))\n",
    "sat_raws_frl_higher = np.array(list(sat_raws_frl.loc[sat_raws_frl['frl_percent'] >= frl_median]['SAT Composite Avg. Score']))"
   ]
  },
  {
   "cell_type": "code",
   "execution_count": 1128,
   "metadata": {},
   "outputs": [
    {
     "data": {
      "text/plain": [
       "(69.69999999999999, 66.11432038834951)"
      ]
     },
     "execution_count": 1128,
     "metadata": {},
     "output_type": "execute_result"
    }
   ],
   "source": [
    "frl_mean = np.mean(np.array(list(sat_raws_frl['frl_percent'])))\n",
    "frl_median, frl_mean"
   ]
  },
  {
   "cell_type": "code",
   "execution_count": 1129,
   "metadata": {},
   "outputs": [
    {
     "data": {
      "image/png": "[encoded data removed]",
      "text/plain": [
       "<Figure size 432x288 with 1 Axes>"
      ]
     },
     "metadata": {
      "needs_background": "light"
     },
     "output_type": "display_data"
    }
   ],
   "source": [
    "plt.hist(sat_raws_frl_higher, 5, (600, 2400), color='darkorchid')\n",
    "plt.xlabel('SAT Composite Avg. Score', size=14)\n",
    "plt.ylabel(\"School Count\", size=14)\n",
    "plt.title(\"SAT Score Distribution for Schools with More Students That Receive Free/Reduced Lunches (Lower Income Students)\")\n",
    "plt.show()"
   ]
  },
  {
   "cell_type": "code",
   "execution_count": 1130,
   "metadata": {},
   "outputs": [
    {
     "data": {
      "image/png": "[encoded data removed]",
      "text/plain": [
       "<Figure size 432x288 with 1 Axes>"
      ]
     },
     "metadata": {
      "needs_background": "light"
     },
     "output_type": "display_data"
    }
   ],
   "source": [
    "plt.hist(sat_raws_frl_lower, 5, (600, 2400), color='dodgerblue')\n",
    "plt.xlabel('SAT Composite Avg. Score', size=14)\n",
    "plt.ylabel(\"School Count\", size=14)\n",
    "plt.title(\"SAT Score Distribution for Schools with Less Students That Receive Free/Reduced Lunches (Lower Income Students)\")\n",
    "plt.show()"
   ]
  },
  {
   "cell_type": "code",
   "execution_count": 1131,
   "metadata": {},
   "outputs": [
    {
     "data": {
      "image/png": "[encoded data removed]",
      "text/plain": [
       "<Figure size 432x288 with 1 Axes>"
      ]
     },
     "metadata": {
      "needs_background": "light"
     },
     "output_type": "display_data"
    }
   ],
   "source": [
    "plt.hist(sat_raws_frl_higher, 5, (600, 2400), alpha=0.5, color='darkorchid')\n",
    "plt.hist(sat_raws_frl_lower, 5, (600, 2400), alpha=0.5, color='dodgerblue')\n",
    "plt.xlabel('SAT Composite Avg. Score', size=14)\n",
    "plt.ylabel(\"School Count\", size=14)\n",
    "plt.title(\"Lower Income Schools vs. Higher Income Schools\")\n",
    "plt.show()"
   ]
  },
  {
   "cell_type": "markdown",
   "metadata": {},
   "source": [
    "Another way to look at how socioeconomic class and SAT scores is to look at school's data by the schools' boroughs (Manhattan, Brooklyn, Bronx, Queens, and Staten Island). The letters in the school's DBN (unique identifier) indicate which borough/county it is located in. M is for Manhattan County/Borough, K is for Kings County (Brooklyn), X is for Bronx County/Borough, Q is for Queens County/Borough, and R is for Richmond County (Staten Island).\n",
    "\n",
    "According to the census data (https://www.census.gov/quickfacts/fact/table/newyorkcountymanhattanboroughnewyork,bronxcountybronxboroughnewyork,queenscountyqueensboroughnewyork,kingscountybrooklynboroughnewyork,richmondcountystatenislandboroughnewyork,newyorkcitynewyork/HSG010219), based on median household income in 2018 dollars (2014-2018), the boroughs are ranked in from highest to lowest median househould income as below:\n",
    "1. Manhattan\n",
    "2. Staten Island\n",
    "3. Queens\n",
    "4. Brooklyn\n",
    "5. Bronx\n",
    "\n",
    "I will look at schools from each borough, create histograms for each, and compare them to the nationwide estimated score distribution (based on nationwide average and standard deviation)."
   ]
  },
  {
   "cell_type": "code",
   "execution_count": 1029,
   "metadata": {},
   "outputs": [],
   "source": [
    "scores = []\n",
    "m_scores = []\n",
    "r_scores = []\n",
    "q_scores = []\n",
    "k_scores = []\n",
    "x_scores = []\n",
    "no_m_scores = []\n",
    "no_r_scores = []\n",
    "no_q_scores = []\n",
    "no_k_scores = []\n",
    "no_x_scores = []\n",
    "for i, row in sat_raws_demos.iterrows():\n",
    "    dbn = row['DBN']\n",
    "    score = row['SAT Composite Avg. Score']\n",
    "    scores.append(score)\n",
    "    if 'M' in dbn:\n",
    "        m_scores.append(score)\n",
    "        no_r_scores.append(score)\n",
    "        no_q_scores.append(score)\n",
    "        no_k_scores.append(score)\n",
    "        no_x_scores.append(score)\n",
    "    elif 'Q' in dbn:\n",
    "        q_scores.append(score)\n",
    "        no_r_scores.append(score)\n",
    "        no_m_scores.append(score)\n",
    "        no_k_scores.append(score)\n",
    "        no_x_scores.append(score)\n",
    "    elif 'K' in dbn:\n",
    "        k_scores.append(score)\n",
    "        no_r_scores.append(score)\n",
    "        no_q_scores.append(score)\n",
    "        no_m_scores.append(score)\n",
    "        no_x_scores.append(score)\n",
    "    elif 'X' in dbn:\n",
    "        x_scores.append(score)\n",
    "        no_r_scores.append(score)\n",
    "        no_q_scores.append(score)\n",
    "        no_k_scores.append(score)\n",
    "        no_m_scores.append(score)\n",
    "    elif 'R' in dbn:\n",
    "        r_scores.append(score)\n",
    "        no_m_scores.append(score)\n",
    "        no_q_scores.append(score)\n",
    "        no_k_scores.append(score)\n",
    "        no_x_scores.append(score)\n",
    "m_scores = np.array(m_scores)\n",
    "r_scores = np.array(r_scores)\n",
    "q_scores = np.array(q_scores)\n",
    "k_scores = np.array(k_scores)\n",
    "x_scores = np.array(x_scores)\n",
    "scores = np.array(scores)"
   ]
  },
  {
   "cell_type": "code",
   "execution_count": 1116,
   "metadata": {},
   "outputs": [
    {
     "data": {
      "image/png": "[encoded data removed]",
      "text/plain": [
       "<Figure size 432x288 with 1 Axes>"
      ]
     },
     "metadata": {
      "needs_background": "light"
     },
     "output_type": "display_data"
    }
   ],
   "source": [
    "plt.hist(m_scores, 5, (600, 2400), color='red')\n",
    "plt.xlabel('SAT Composite Avg. Score', size=14)\n",
    "plt.ylabel(\"Count\", size=14)\n",
    "plt.title(\"Manhattan\")\n",
    "plt.show()"
   ]
  },
  {
   "cell_type": "code",
   "execution_count": 1115,
   "metadata": {},
   "outputs": [
    {
     "data": {
      "image/png": "[encoded data removed]",
      "text/plain": [
       "<Figure size 432x288 with 1 Axes>"
      ]
     },
     "metadata": {
      "needs_background": "light"
     },
     "output_type": "display_data"
    }
   ],
   "source": [
    "plt.hist(r_scores, 5, (600, 2400), color='orange')\n",
    "plt.xlabel('SAT Composite Avg. Score', size=14)\n",
    "plt.ylabel(\"Count\", size=14)\n",
    "plt.title(\"Staten Island\")\n",
    "plt.show()"
   ]
  },
  {
   "cell_type": "code",
   "execution_count": 1114,
   "metadata": {},
   "outputs": [
    {
     "data": {
      "image/png": "[encoded data removed]",
      "text/plain": [
       "<Figure size 432x288 with 1 Axes>"
      ]
     },
     "metadata": {
      "needs_background": "light"
     },
     "output_type": "display_data"
    }
   ],
   "source": [
    "plt.hist(q_scores, 5, (600, 2400), color='gold')\n",
    "plt.xlabel('SAT Composite Avg. Score', size=14)\n",
    "plt.ylabel(\"Count\", size=14)\n",
    "plt.title(\"Queens\")\n",
    "plt.show()"
   ]
  },
  {
   "cell_type": "code",
   "execution_count": 1113,
   "metadata": {},
   "outputs": [
    {
     "data": {
      "image/png": "[encoded data removed]",
      "text/plain": [
       "<Figure size 432x288 with 1 Axes>"
      ]
     },
     "metadata": {
      "needs_background": "light"
     },
     "output_type": "display_data"
    }
   ],
   "source": [
    "plt.hist(k_scores, 5, (600, 2400), color='green')\n",
    "plt.xlabel('SAT Composite Avg. Score', size=14)\n",
    "plt.ylabel(\"Count\", size=14)\n",
    "plt.title(\"Brooklyn\")\n",
    "plt.show()"
   ]
  },
  {
   "cell_type": "code",
   "execution_count": 1112,
   "metadata": {},
   "outputs": [
    {
     "data": {
      "image/png": "[encoded data removed]",
      "text/plain": [
       "<Figure size 432x288 with 1 Axes>"
      ]
     },
     "metadata": {
      "needs_background": "light"
     },
     "output_type": "display_data"
    }
   ],
   "source": [
    "plt.hist(x_scores, 5, (600, 2400), color='dodgerblue')\n",
    "plt.xlabel('SAT Composite Avg. Score', size=14)\n",
    "plt.ylabel(\"Count\", size=14)\n",
    "plt.title(\"Bronx\")\n",
    "plt.show()"
   ]
  },
  {
   "cell_type": "code",
   "execution_count": 1109,
   "metadata": {},
   "outputs": [
    {
     "data": {
      "image/png": "[encoded data removed]",
      "text/plain": [
       "<Figure size 432x288 with 1 Axes>"
      ]
     },
     "metadata": {
      "needs_background": "light"
     },
     "output_type": "display_data"
    }
   ],
   "source": [
    "plt.hist(x_scores, 5, (600, 2400), alpha = 0.5, color='dodgerblue')\n",
    "plt.hist(m_scores, 5, (600, 2400), alpha = 0.5, color='red')\n",
    "plt.xlabel('SAT Composite Avg. Score', size=14)\n",
    "plt.ylabel(\"Count\", size=14)\n",
    "plt.title(\"Bronx vs. Manhattan\")\n",
    "plt.show()"
   ]
  },
  {
   "cell_type": "code",
   "execution_count": 1110,
   "metadata": {},
   "outputs": [
    {
     "data": {
      "image/png": "[encoded data removed]",
      "text/plain": [
       "<Figure size 432x288 with 1 Axes>"
      ]
     },
     "metadata": {
      "needs_background": "light"
     },
     "output_type": "display_data"
    }
   ],
   "source": [
    "plt.hist(x_scores, 5, (600, 2400), alpha = 0.5, color='dodgerblue')\n",
    "plt.hist(q_scores, 5, (600, 2400), alpha = 0.5, color='red')\n",
    "plt.xlabel('SAT Composite Avg. Score', size=14)\n",
    "plt.ylabel(\"Count\", size=14)\n",
    "plt.title(\"Bronx vs. Queens\")\n",
    "plt.show()"
   ]
  },
  {
   "cell_type": "code",
   "execution_count": 1111,
   "metadata": {},
   "outputs": [
    {
     "data": {
      "image/png": "[encoded data removed]",
      "text/plain": [
       "<Figure size 432x288 with 1 Axes>"
      ]
     },
     "metadata": {
      "needs_background": "light"
     },
     "output_type": "display_data"
    }
   ],
   "source": [
    "plt.hist(x_scores, 5, (600, 2400), alpha = 0.5, color='dodgerblue')\n",
    "plt.hist(r_scores, 5, (600, 2400), alpha = 0.5, color='red')\n",
    "plt.xlabel('SAT Composite Avg. Score', size=14)\n",
    "plt.ylabel(\"Count\", size=14)\n",
    "plt.title(\"Bronx vs. Staten Island\")\n",
    "plt.show()"
   ]
  },
  {
   "cell_type": "markdown",
   "metadata": {},
   "source": [
    "When compared to the three richest boroughs, the Bronx's distribution has a more significant left skew than the others. The distributions for Manhattan, Queens, and Staten Island all have a more significant right skew, meaning that more students in these boroughs score higher than students in the Bronx.\n",
    "\n",
    "Manhattan's histogram has the longest right tail, meaning more of its students scored above average on the SAT. Staten Island's histogram is the only one centered at around 1250-1500 (the average score range), where the others are centered at 1000-1250 (below average). \n",
    "\n",
    "All of this information seem to point that the more well of a borough is, the more students score higher on the SAT."
   ]
  },
  {
   "cell_type": "markdown",
   "metadata": {},
   "source": [
    "## Conclusion\n",
    "\n",
    "In analyzing the SAT score data and demographics of New York City public schools, I have found clear associations between ethnicity and socioeconomic status with SAT scores.\n",
    "\n",
    "Though the correlation values were relatively weak, the fact that higher SAT Scores and percentage of Black or Hispanic students at a school have a NEGATIVE association (lower percentages of Black/Hispanic students, higher SAT Scores) while higher SAT scores and percentage of White or Asian students at a school have a POSITIVE association (higher percentages of White/Asian students, higher SAT scores) demonstrate that the SAT is potentially discrimanatory against certain groups.\n",
    "\n",
    "The data shows a stronger case for association between SAT scores and socioeconomic status (measured by percentage of students who receive free/reduced price lunches and location of schools). I found a decently strong correlatin value (-0.72) between SAT scores and percentage of students who receive free/reduced price lunches; schools with higher percentages of students who receive free/reduced price lunches are associated with lower SAT scores. Additionally, the score distribution for schools with lower percentages of students who receive free/reduced price lunches had a much larger right tail than the score distribution for schools with higher percentages of students who receive free/reduced price lunches.\n",
    "\n",
    "The discrepancy of SAT scores a the socioeconomic statuses were shown in looking at the schools by borough. Manhattan, the richest borough, had a distribution that was especially skewed right, meaning more students in Manhattan scored well above average on the SAT. The center of Staten Island's, the second richest borough, distribution was higher than all other boroughs. The Bronx, the poorest borough, has both the largest left tail and the smallest right tail, meaning a greater portion of Bronx students scored lower than any other borough and a smaller portion of Bronx student scored above average than any other borough.\n",
    "\n",
    "All in all, it is clear that the SAT is not fair for students of all socioeconomic statuses. Such standardized tests are another way that systemic issues regarding wealth and/or race are exacerbated and disadvantage minorities and poorer people. While no causation was proved in this basic analysis, the data demonstrating association between SAT scores and student demographics warrant the need to look into making the SAT less discrimantory, or finding an entirely new way to measure college-readiness."
   ]
  }
 ],
 "metadata": {
  "kernelspec": {
   "display_name": "Python 3",
   "language": "python",
   "name": "python3"
  },
  "language_info": {
   "codemirror_mode": {
    "name": "ipython",
    "version": 3
   },
   "file_extension": ".py",
   "mimetype": "text/x-python",
   "name": "python",
   "nbconvert_exporter": "python",
   "pygments_lexer": "ipython3",
   "version": "3.7.4"
  }
 },
 "nbformat": 4,
 "nbformat_minor": 2
}
